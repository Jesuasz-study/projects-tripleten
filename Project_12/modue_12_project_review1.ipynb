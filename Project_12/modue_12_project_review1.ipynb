{
 "cells": [
  {
   "cell_type": "markdown",
   "metadata": {},
   "source": [
    "Hola **Jesua**!\n",
    "\n",
    "Soy **Patricio Requena** 👋. Es un placer ser el revisor de tu proyecto el día de hoy!\n",
    "\n",
    "Revisaré tu proyecto detenidamente con el objetivo de ayudarte a mejorar y perfeccionar tus habilidades. Durante mi revisión, identificaré áreas donde puedas hacer mejoras en tu código, señalando específicamente qué y cómo podrías ajustar para optimizar el rendimiento y la claridad de tu proyecto. Además, es importante para mí destacar los aspectos que has manejado excepcionalmente bien. Reconocer tus fortalezas te ayudará a entender qué técnicas y métodos están funcionando a tu favor y cómo puedes aplicarlos en futuras tareas. \n",
    "\n",
    "_**Recuerda que al final de este notebook encontrarás un comentario general de mi parte**_, empecemos!\n",
    "\n",
    "Encontrarás mis comentarios dentro de cajas verdes, amarillas o rojas, ⚠️ **por favor, no muevas, modifiques o borres mis comentarios** ⚠️:\n",
    "\n",
    "\n",
    "<div class=\"alert alert-block alert-success\">\n",
    "<b>Comentario del revisor</b> <a class=“tocSkip”></a>\n",
    "Si todo está perfecto.\n",
    "</div>\n",
    "\n",
    "<div class=\"alert alert-block alert-warning\">\n",
    "<b>Comentario del revisor</b> <a class=“tocSkip”></a>\n",
    "Si tu código está bien pero se puede mejorar o hay algún detalle que le hace falta.\n",
    "</div>\n",
    "\n",
    "<div class=\"alert alert-block alert-danger\">\n",
    "<b>Comentario del revisor</b> <a class=“tocSkip”></a>\n",
    "Si de pronto hace falta algo o existe algún problema con tu código o conclusiones.\n",
    "</div>\n",
    "\n",
    "Puedes responderme de esta forma:\n",
    "<div class=\"alert alert-block alert-info\">\n",
    "<b>Respuesta del estudiante</b> <a class=“tocSkip”></a>\n",
    "</div>"
   ]
  },
  {
   "cell_type": "markdown",
   "metadata": {},
   "source": [
    "El servicio de venta de autos usados Rusty Bargain está desarrollando una aplicación para atraer nuevos clientes. Gracias a esa app, puedes averiguar rápidamente el valor de mercado de tu coche. Tienes acceso al historial: especificaciones técnicas, versiones de equipamiento y precios. Tienes que crear un modelo que determine el valor de mercado.\n",
    "A Rusty Bargain le interesa:\n",
    "- la calidad de la predicción;\n",
    "- la velocidad de la predicción;\n",
    "- el tiempo requerido para el entrenamiento"
   ]
  },
  {
   "cell_type": "code",
   "execution_count": 1,
   "metadata": {},
   "outputs": [],
   "source": [
    "# Solo correr en la primer ejecucion\n",
    "#!pip install category-encoders\n",
    "#!pip install catboost==1.2.7\n",
    "#!pip install numpy==1.26.4\n",
    "#!pip install lightgbm==3.3.5"
   ]
  },
  {
   "cell_type": "code",
   "execution_count": 2,
   "metadata": {},
   "outputs": [],
   "source": [
    "import time\n",
    "import pandas as pd\n",
    "import seaborn as sns\n",
    "import matplotlib.pyplot as plt\n",
    "import numpy as np\n",
    "import category_encoders as ce\n",
    "from sklearn.model_selection import train_test_split\n",
    "from sklearn.linear_model import LinearRegression\n",
    "from sklearn.metrics import mean_squared_error, r2_score\n",
    "from catboost import CatBoostRegressor\n",
    "from sklearn.metrics import roc_auc_score\n",
    "import lightgbm as lgb"
   ]
  },
  {
   "cell_type": "markdown",
   "metadata": {},
   "source": [
    "<div class=\"alert alert-block alert-info\">\n",
    "<b>Comentario del revisor (1ra Iteracion)</b> <a class=“tocSkip”></a>\n",
    "\n",
    "Una buena práctica para cuando tengas que importar varias librerías es seguir el siguiente órden en las mismas:\n",
    "\n",
    "- Primero todas las librerías que vienen ya con python cómo `datetime`, `os`, `json`, etc.\n",
    "- Luego de las librerías de Python si las de terceros cómo `pandas`, `scipy`, `numpy`, etc.\n",
    "- Por último, en el caso de que armes tu propio módulo en tu proyecto esto debería ir en tercer lugar, y recuerda siempre ordenar cada tipo por orden alfabético\n",
    "    \n",
    "Para cada sección se deben ordenar en orden alfabético\n",
    "</div>"
   ]
  },
  {
   "cell_type": "markdown",
   "metadata": {},
   "source": [
    "## Preparación de datos"
   ]
  },
  {
   "cell_type": "markdown",
   "metadata": {},
   "source": [
    "### Dataset description"
   ]
  },
  {
   "cell_type": "code",
   "execution_count": 3,
   "metadata": {},
   "outputs": [
    {
     "name": "stdout",
     "output_type": "stream",
     "text": [
      "<class 'pandas.core.frame.DataFrame'>\n",
      "RangeIndex: 354369 entries, 0 to 354368\n",
      "Data columns (total 16 columns):\n",
      " #   Column             Non-Null Count   Dtype \n",
      "---  ------             --------------   ----- \n",
      " 0   DateCrawled        354369 non-null  object\n",
      " 1   Price              354369 non-null  int64 \n",
      " 2   VehicleType        316879 non-null  object\n",
      " 3   RegistrationYear   354369 non-null  int64 \n",
      " 4   Gearbox            334536 non-null  object\n",
      " 5   Power              354369 non-null  int64 \n",
      " 6   Model              334664 non-null  object\n",
      " 7   Mileage            354369 non-null  int64 \n",
      " 8   RegistrationMonth  354369 non-null  int64 \n",
      " 9   FuelType           321474 non-null  object\n",
      " 10  Brand              354369 non-null  object\n",
      " 11  NotRepaired        283215 non-null  object\n",
      " 12  DateCreated        354369 non-null  object\n",
      " 13  NumberOfPictures   354369 non-null  int64 \n",
      " 14  PostalCode         354369 non-null  int64 \n",
      " 15  LastSeen           354369 non-null  object\n",
      "dtypes: int64(7), object(9)\n",
      "memory usage: 43.3+ MB\n"
     ]
    }
   ],
   "source": [
    "df = pd.read_csv('datasets/car_data.csv')\n",
    "df.info()"
   ]
  },
  {
   "cell_type": "code",
   "execution_count": 4,
   "metadata": {},
   "outputs": [],
   "source": [
    "df.drop(columns=['DateCrawled', 'RegistrationMonth', 'DateCreated', 'NumberOfPictures', 'PostalCode', 'LastSeen'], inplace=True)"
   ]
  },
  {
   "cell_type": "code",
   "execution_count": 5,
   "metadata": {},
   "outputs": [],
   "source": [
    "df = df.rename(columns={'Price': 'price', 'VehicleType': 'vehicle_type', 'RegistrationYear': 'registration_year', 'Gearbox': 'gearbox','Power': 'power', 'Model': 'model',\n",
    "                        'Mileage': 'mileage', 'FuelType': 'fuel_type', 'Brand':'brand','NotRepaired':'not_repaired'})"
   ]
  },
  {
   "cell_type": "markdown",
   "metadata": {},
   "source": [
    "<div class=\"alert alert-block alert-success\">\n",
    "<b>Comentario del revisor (1ra Iteracion)</b> <a class=“tocSkip”></a>\n",
    "\n",
    "Muy bien, siempre es ideal tener nombres en las columnas que sean más fácil de acceder, buen trabajo con el procesamiento de los nombres!\n",
    "</div>"
   ]
  },
  {
   "cell_type": "code",
   "execution_count": 6,
   "metadata": {},
   "outputs": [
    {
     "data": {
      "text/html": [
       "<div>\n",
       "<style scoped>\n",
       "    .dataframe tbody tr th:only-of-type {\n",
       "        vertical-align: middle;\n",
       "    }\n",
       "\n",
       "    .dataframe tbody tr th {\n",
       "        vertical-align: top;\n",
       "    }\n",
       "\n",
       "    .dataframe thead th {\n",
       "        text-align: right;\n",
       "    }\n",
       "</style>\n",
       "<table border=\"1\" class=\"dataframe\">\n",
       "  <thead>\n",
       "    <tr style=\"text-align: right;\">\n",
       "      <th></th>\n",
       "      <th>price</th>\n",
       "      <th>vehicle_type</th>\n",
       "      <th>registration_year</th>\n",
       "      <th>gearbox</th>\n",
       "      <th>power</th>\n",
       "      <th>model</th>\n",
       "      <th>mileage</th>\n",
       "      <th>fuel_type</th>\n",
       "      <th>brand</th>\n",
       "      <th>not_repaired</th>\n",
       "    </tr>\n",
       "  </thead>\n",
       "  <tbody>\n",
       "    <tr>\n",
       "      <th>125691</th>\n",
       "      <td>5000</td>\n",
       "      <td>wagon</td>\n",
       "      <td>2004</td>\n",
       "      <td>manual</td>\n",
       "      <td>143</td>\n",
       "      <td>c_klasse</td>\n",
       "      <td>150000</td>\n",
       "      <td>petrol</td>\n",
       "      <td>mercedes_benz</td>\n",
       "      <td>no</td>\n",
       "    </tr>\n",
       "    <tr>\n",
       "      <th>141013</th>\n",
       "      <td>1600</td>\n",
       "      <td>sedan</td>\n",
       "      <td>2002</td>\n",
       "      <td>manual</td>\n",
       "      <td>60</td>\n",
       "      <td>fabia</td>\n",
       "      <td>150000</td>\n",
       "      <td>petrol</td>\n",
       "      <td>skoda</td>\n",
       "      <td>no</td>\n",
       "    </tr>\n",
       "    <tr>\n",
       "      <th>335059</th>\n",
       "      <td>3800</td>\n",
       "      <td>sedan</td>\n",
       "      <td>2001</td>\n",
       "      <td>manual</td>\n",
       "      <td>105</td>\n",
       "      <td>3er</td>\n",
       "      <td>150000</td>\n",
       "      <td>petrol</td>\n",
       "      <td>bmw</td>\n",
       "      <td>no</td>\n",
       "    </tr>\n",
       "    <tr>\n",
       "      <th>132379</th>\n",
       "      <td>1999</td>\n",
       "      <td>wagon</td>\n",
       "      <td>2000</td>\n",
       "      <td>manual</td>\n",
       "      <td>163</td>\n",
       "      <td>5er</td>\n",
       "      <td>150000</td>\n",
       "      <td>gasoline</td>\n",
       "      <td>bmw</td>\n",
       "      <td>no</td>\n",
       "    </tr>\n",
       "    <tr>\n",
       "      <th>89339</th>\n",
       "      <td>13900</td>\n",
       "      <td>sedan</td>\n",
       "      <td>1969</td>\n",
       "      <td>auto</td>\n",
       "      <td>54</td>\n",
       "      <td>other</td>\n",
       "      <td>125000</td>\n",
       "      <td>petrol</td>\n",
       "      <td>volkswagen</td>\n",
       "      <td>no</td>\n",
       "    </tr>\n",
       "    <tr>\n",
       "      <th>235987</th>\n",
       "      <td>150</td>\n",
       "      <td>small</td>\n",
       "      <td>1997</td>\n",
       "      <td>manual</td>\n",
       "      <td>50</td>\n",
       "      <td>ka</td>\n",
       "      <td>125000</td>\n",
       "      <td>petrol</td>\n",
       "      <td>ford</td>\n",
       "      <td>NaN</td>\n",
       "    </tr>\n",
       "    <tr>\n",
       "      <th>299110</th>\n",
       "      <td>350</td>\n",
       "      <td>wagon</td>\n",
       "      <td>1998</td>\n",
       "      <td>manual</td>\n",
       "      <td>90</td>\n",
       "      <td>berlingo</td>\n",
       "      <td>5000</td>\n",
       "      <td>petrol</td>\n",
       "      <td>citroen</td>\n",
       "      <td>NaN</td>\n",
       "    </tr>\n",
       "    <tr>\n",
       "      <th>297473</th>\n",
       "      <td>8900</td>\n",
       "      <td>wagon</td>\n",
       "      <td>2007</td>\n",
       "      <td>manual</td>\n",
       "      <td>170</td>\n",
       "      <td>a4</td>\n",
       "      <td>150000</td>\n",
       "      <td>gasoline</td>\n",
       "      <td>audi</td>\n",
       "      <td>no</td>\n",
       "    </tr>\n",
       "    <tr>\n",
       "      <th>278891</th>\n",
       "      <td>3999</td>\n",
       "      <td>sedan</td>\n",
       "      <td>1999</td>\n",
       "      <td>auto</td>\n",
       "      <td>224</td>\n",
       "      <td>s_klasse</td>\n",
       "      <td>150000</td>\n",
       "      <td>petrol</td>\n",
       "      <td>mercedes_benz</td>\n",
       "      <td>no</td>\n",
       "    </tr>\n",
       "    <tr>\n",
       "      <th>4098</th>\n",
       "      <td>990</td>\n",
       "      <td>wagon</td>\n",
       "      <td>2002</td>\n",
       "      <td>manual</td>\n",
       "      <td>136</td>\n",
       "      <td>other</td>\n",
       "      <td>150000</td>\n",
       "      <td>petrol</td>\n",
       "      <td>citroen</td>\n",
       "      <td>no</td>\n",
       "    </tr>\n",
       "  </tbody>\n",
       "</table>\n",
       "</div>"
      ],
      "text/plain": [
       "        price vehicle_type  registration_year gearbox  power     model  \\\n",
       "125691   5000        wagon               2004  manual    143  c_klasse   \n",
       "141013   1600        sedan               2002  manual     60     fabia   \n",
       "335059   3800        sedan               2001  manual    105       3er   \n",
       "132379   1999        wagon               2000  manual    163       5er   \n",
       "89339   13900        sedan               1969    auto     54     other   \n",
       "235987    150        small               1997  manual     50        ka   \n",
       "299110    350        wagon               1998  manual     90  berlingo   \n",
       "297473   8900        wagon               2007  manual    170        a4   \n",
       "278891   3999        sedan               1999    auto    224  s_klasse   \n",
       "4098      990        wagon               2002  manual    136     other   \n",
       "\n",
       "        mileage fuel_type          brand not_repaired  \n",
       "125691   150000    petrol  mercedes_benz           no  \n",
       "141013   150000    petrol          skoda           no  \n",
       "335059   150000    petrol            bmw           no  \n",
       "132379   150000  gasoline            bmw           no  \n",
       "89339    125000    petrol     volkswagen           no  \n",
       "235987   125000    petrol           ford          NaN  \n",
       "299110     5000    petrol        citroen          NaN  \n",
       "297473   150000  gasoline           audi           no  \n",
       "278891   150000    petrol  mercedes_benz           no  \n",
       "4098     150000    petrol        citroen           no  "
      ]
     },
     "execution_count": 6,
     "metadata": {},
     "output_type": "execute_result"
    }
   ],
   "source": [
    "df.sample(10)"
   ]
  },
  {
   "cell_type": "markdown",
   "metadata": {},
   "source": [
    "### NaN values"
   ]
  },
  {
   "cell_type": "code",
   "execution_count": 7,
   "metadata": {},
   "outputs": [
    {
     "data": {
      "text/plain": [
       "price                    0\n",
       "vehicle_type         37490\n",
       "registration_year        0\n",
       "gearbox              19833\n",
       "power                    0\n",
       "model                19705\n",
       "mileage                  0\n",
       "fuel_type            32895\n",
       "brand                    0\n",
       "not_repaired         71154\n",
       "dtype: int64"
      ]
     },
     "execution_count": 7,
     "metadata": {},
     "output_type": "execute_result"
    }
   ],
   "source": [
    "df.isna().sum()"
   ]
  },
  {
   "cell_type": "code",
   "execution_count": 8,
   "metadata": {},
   "outputs": [],
   "source": [
    "df['vehicle_type'] = df['vehicle_type'].fillna('Sin_dato_vt')\n",
    "df['gearbox'] = df['gearbox'].fillna('Sin_dato_gb')\n",
    "df['model'] = df['model'].fillna('Sin_dato_md')\n",
    "df['fuel_type'] = df['fuel_type'].fillna('Sin_dato_ft')\n",
    "df['not_repaired'] = df['not_repaired'].fillna('Sin_dato_nr')"
   ]
  },
  {
   "cell_type": "code",
   "execution_count": 9,
   "metadata": {},
   "outputs": [
    {
     "data": {
      "text/plain": [
       "price                0\n",
       "vehicle_type         0\n",
       "registration_year    0\n",
       "gearbox              0\n",
       "power                0\n",
       "model                0\n",
       "mileage              0\n",
       "fuel_type            0\n",
       "brand                0\n",
       "not_repaired         0\n",
       "dtype: int64"
      ]
     },
     "execution_count": 9,
     "metadata": {},
     "output_type": "execute_result"
    }
   ],
   "source": [
    "df.isna().sum()"
   ]
  },
  {
   "cell_type": "markdown",
   "metadata": {},
   "source": [
    "##### Price - Target"
   ]
  },
  {
   "cell_type": "code",
   "execution_count": 10,
   "metadata": {},
   "outputs": [
    {
     "data": {
      "image/png": "[encoded data removed]",
      "text/plain": [
       "<Figure size 640x480 with 1 Axes>"
      ]
     },
     "metadata": {},
     "output_type": "display_data"
    }
   ],
   "source": [
    "plt.title('Price Distribution Plot')\n",
    "sns.histplot(df[\"price\"], kde=True)\n",
    "plt.show()"
   ]
  },
  {
   "cell_type": "code",
   "execution_count": 11,
   "metadata": {},
   "outputs": [
    {
     "name": "stdout",
     "output_type": "stream",
     "text": [
      "price\n",
      "0       10772\n",
      "500      5670\n",
      "1500     5394\n",
      "1000     4649\n",
      "1200     4594\n",
      "2500     4438\n",
      "600      3819\n",
      "3500     3792\n",
      "800      3784\n",
      "2000     3431\n",
      "999      3364\n",
      "750      3203\n",
      "650      3150\n",
      "4500     3053\n",
      "850      2946\n",
      "2200     2936\n",
      "700      2936\n",
      "1800     2886\n",
      "900      2874\n",
      "950      2793\n",
      "1100     2771\n",
      "1300     2757\n",
      "300      2731\n",
      "3000     2720\n",
      "550      2591\n",
      "1600     2570\n",
      "5500     2543\n",
      "350      2514\n",
      "400      2442\n",
      "1250     2441\n",
      "6500     2273\n",
      "1400     2253\n",
      "1999     2244\n",
      "250      2192\n",
      "2800     2183\n",
      "3200     2099\n",
      "450      2040\n",
      "1900     2038\n",
      "1700     2030\n",
      "2300     2018\n",
      "1350     2011\n",
      "200      1986\n",
      "4000     1930\n",
      "2900     1877\n",
      "7500     1876\n",
      "2999     1824\n",
      "1450     1806\n",
      "8500     1793\n",
      "1950     1739\n",
      "5000     1735\n",
      "Name: count, dtype: int64\n"
     ]
    }
   ],
   "source": [
    "price_count = df[\"price\"].value_counts()\n",
    "print(price_count.head(50))"
   ]
  },
  {
   "cell_type": "markdown",
   "metadata": {},
   "source": [
    "#### Analisis\n",
    "Encontramos que hay una gran cantidad de registro con un valor del auto (price) de $0 (EU). Siendo la variable objetivo, no estamos interesados en pedir al modelo que aprenda a predecir un auto con valor 0, por lo que vamos a eliminar aquellos registros con ese valor. Se eliminaran 10772 registros"
   ]
  },
  {
   "cell_type": "code",
   "execution_count": 12,
   "metadata": {},
   "outputs": [],
   "source": [
    "cero_price_mask = df['price'] == 0\n",
    "df.drop(df.index[cero_price_mask], inplace=True)"
   ]
  },
  {
   "cell_type": "markdown",
   "metadata": {},
   "source": [
    "##### Vehicle Type"
   ]
  },
  {
   "cell_type": "code",
   "execution_count": 13,
   "metadata": {},
   "outputs": [
    {
     "data": {
      "image/png": "[encoded data removed]",
      "text/plain": [
       "<Figure size 640x480 with 1 Axes>"
      ]
     },
     "metadata": {},
     "output_type": "display_data"
    }
   ],
   "source": [
    "plt.title('Vehicle Type Distribution Plot')\n",
    "ax = sns.histplot(df[\"vehicle_type\"], kde=False)\n",
    "ax.tick_params(axis='x', labelrotation = 45)\n",
    "plt.show()"
   ]
  },
  {
   "cell_type": "markdown",
   "metadata": {},
   "source": [
    "##### Registration Year"
   ]
  },
  {
   "cell_type": "code",
   "execution_count": 14,
   "metadata": {},
   "outputs": [
    {
     "data": {
      "image/png": "[encoded data removed]",
      "text/plain": [
       "<Figure size 640x480 with 1 Axes>"
      ]
     },
     "metadata": {},
     "output_type": "display_data"
    }
   ],
   "source": [
    "plt.title('Registration Year Distribution Plot')\n",
    "ax = sns.histplot(df[\"registration_year\"], kde=False)\n",
    "ax.tick_params(axis='x', labelrotation = 45)\n",
    "plt.show()"
   ]
  },
  {
   "cell_type": "code",
   "execution_count": 15,
   "metadata": {},
   "outputs": [
    {
     "name": "stdout",
     "output_type": "stream",
     "text": [
      "registration_year\n",
      "2000    23072\n",
      "1999    21995\n",
      "2005    21524\n",
      "2006    19679\n",
      "2001    19654\n",
      "2003    19499\n",
      "2004    19342\n",
      "2002    18725\n",
      "1998    17178\n",
      "2007    17017\n",
      "2008    15252\n",
      "2009    14397\n",
      "1997    13991\n",
      "2010    10681\n",
      "1996    10364\n",
      "Name: count, dtype: int64\n"
     ]
    }
   ],
   "source": [
    "registration_year_count = df[\"registration_year\"].value_counts()\n",
    "print(registration_year_count.head(15))\n",
    "#registration_years"
   ]
  },
  {
   "cell_type": "code",
   "execution_count": 16,
   "metadata": {},
   "outputs": [
    {
     "name": "stdout",
     "output_type": "stream",
     "text": [
      "registration_year\n",
      "1946    1\n",
      "2290    1\n",
      "6500    1\n",
      "4800    1\n",
      "3800    1\n",
      "3700    1\n",
      "1255    1\n",
      "8500    1\n",
      "1400    1\n",
      "5900    1\n",
      "2900    1\n",
      "5300    1\n",
      "1949    1\n",
      "2066    1\n",
      "4100    1\n",
      "Name: count, dtype: int64\n"
     ]
    }
   ],
   "source": [
    "rev_registration_year_count = registration_year_count.iloc[::-1]\n",
    "print(rev_registration_year_count.head(15))"
   ]
  },
  {
   "cell_type": "markdown",
   "metadata": {},
   "source": [
    "##### Analisis\n",
    "\n",
    "Vemos que hay algunos valores irreales para el año de registro del auto. Mi propuesta es definir un rango de año valido (1950- 2024) y todos aquellos valores fuera de ese rango que sean eliminados del dataset"
   ]
  },
  {
   "cell_type": "code",
   "execution_count": 17,
   "metadata": {},
   "outputs": [],
   "source": [
    "wrong_registratrion_year_mask = (df['registration_year'] < 1950) | (df['registration_year'] > 2025)\n",
    "df.drop(df.index[wrong_registratrion_year_mask], inplace=True)"
   ]
  },
  {
   "cell_type": "markdown",
   "metadata": {},
   "source": [
    "##### Gearbox"
   ]
  },
  {
   "cell_type": "code",
   "execution_count": 18,
   "metadata": {},
   "outputs": [
    {
     "data": {
      "image/png": "[encoded data removed]",
      "text/plain": [
       "<Figure size 640x480 with 1 Axes>"
      ]
     },
     "metadata": {},
     "output_type": "display_data"
    }
   ],
   "source": [
    "plt.title('Gearbox Type Distribution Plot')\n",
    "sns.histplot(df[\"gearbox\"], kde=False)\n",
    "plt.show()"
   ]
  },
  {
   "cell_type": "markdown",
   "metadata": {},
   "source": [
    "##### Power"
   ]
  },
  {
   "cell_type": "code",
   "execution_count": 19,
   "metadata": {},
   "outputs": [
    {
     "data": {
      "image/png": "[encoded data removed]",
      "text/plain": [
       "<Figure size 640x480 with 1 Axes>"
      ]
     },
     "metadata": {},
     "output_type": "display_data"
    }
   ],
   "source": [
    "plt.title('Power Type Distribution Plot')\n",
    "sns.histplot(df[\"power\"], kde=True)\n",
    "plt.show()"
   ]
  },
  {
   "cell_type": "code",
   "execution_count": 20,
   "metadata": {},
   "outputs": [
    {
     "name": "stdout",
     "output_type": "stream",
     "text": [
      "power\n",
      "0      36180\n",
      "75     23317\n",
      "60     15462\n",
      "150    14169\n",
      "101    12960\n",
      "140    12712\n",
      "90     12279\n",
      "116    11733\n",
      "105    10243\n",
      "170     9911\n",
      "Name: count, dtype: int64\n"
     ]
    }
   ],
   "source": [
    "power_counts = df[\"power\"].value_counts()\n",
    "print(power_counts.head(10))"
   ]
  },
  {
   "cell_type": "code",
   "execution_count": 21,
   "metadata": {},
   "outputs": [
    {
     "name": "stdout",
     "output_type": "stream",
     "text": [
      "power\n",
      "1241    1\n",
      "6018    1\n",
      "5815    1\n",
      "6006    1\n",
      "2461    1\n",
      "519     1\n",
      "2789    1\n",
      "2331    1\n",
      "700     1\n",
      "337     1\n",
      "Name: count, dtype: int64\n"
     ]
    }
   ],
   "source": [
    "rev_power_counts = power_counts.iloc[::-1]\n",
    "print(rev_power_counts.head(10))"
   ]
  },
  {
   "cell_type": "markdown",
   "metadata": {},
   "source": [
    "##### Analisis\n",
    "Vemos que los valores registrados para la columna power son en muchas casos, valores irreales, siendo que los rangos de valores promedio para los autos van de los 100 a los 400 (CV), llegando a 500 en autos deportivos. Me parece que es justificado el presindir de aquellos registros con valores fuera de ese rango, se pierden 46254 registros."
   ]
  },
  {
   "cell_type": "code",
   "execution_count": 22,
   "metadata": {},
   "outputs": [],
   "source": [
    "wrong_power_mask = (df['power'] < 50) | (df['power'] > 600)\n",
    "df.drop(df.index[wrong_power_mask], inplace=True)"
   ]
  },
  {
   "cell_type": "markdown",
   "metadata": {},
   "source": [
    "##### Intento de remplazo de valores"
   ]
  },
  {
   "cell_type": "markdown",
   "metadata": {},
   "source": [
    "##### Model"
   ]
  },
  {
   "cell_type": "code",
   "execution_count": 23,
   "metadata": {},
   "outputs": [
    {
     "name": "stdout",
     "output_type": "stream",
     "text": [
      "model\n",
      "golf                  25970\n",
      "other                 20236\n",
      "3er                   17773\n",
      "Sin_dato_md           11827\n",
      "polo                  10204\n",
      "                      ...  \n",
      "samara                    5\n",
      "rangerover                3\n",
      "serie_3                   3\n",
      "range_rover_evoque        2\n",
      "601                       1\n",
      "Name: count, Length: 250, dtype: int64\n"
     ]
    }
   ],
   "source": [
    "model_counts = df[\"model\"].value_counts()\n",
    "print(model_counts)\n",
    "#registration_years"
   ]
  },
  {
   "cell_type": "markdown",
   "metadata": {},
   "source": [
    "##### Mileage"
   ]
  },
  {
   "cell_type": "code",
   "execution_count": 24,
   "metadata": {},
   "outputs": [
    {
     "data": {
      "image/png": "[encoded data removed]",
      "text/plain": [
       "<Figure size 640x480 with 1 Axes>"
      ]
     },
     "metadata": {},
     "output_type": "display_data"
    }
   ],
   "source": [
    "plt.title('Mileage Type Distribution Plot')\n",
    "sns.histplot(df[\"mileage\"], kde=True)\n",
    "plt.show()"
   ]
  },
  {
   "cell_type": "markdown",
   "metadata": {},
   "source": [
    "##### Fuel Type"
   ]
  },
  {
   "cell_type": "code",
   "execution_count": 25,
   "metadata": {},
   "outputs": [
    {
     "data": {
      "image/png": "[encoded data removed]",
      "text/plain": [
       "<Figure size 640x480 with 1 Axes>"
      ]
     },
     "metadata": {},
     "output_type": "display_data"
    }
   ],
   "source": [
    "plt.title('Fuel Type Type Distribution Plot')\n",
    "sns.histplot(df[\"fuel_type\"], kde=False)\n",
    "plt.show()"
   ]
  },
  {
   "cell_type": "markdown",
   "metadata": {},
   "source": [
    "##### Brand"
   ]
  },
  {
   "cell_type": "code",
   "execution_count": 26,
   "metadata": {},
   "outputs": [
    {
     "data": {
      "image/png": "[encoded data removed]",
      "text/plain": [
       "<Figure size 640x480 with 1 Axes>"
      ]
     },
     "metadata": {},
     "output_type": "display_data"
    }
   ],
   "source": [
    "plt.title('Brand Type Distribution Plot')\n",
    "ax = sns.histplot(df[\"brand\"], kde=False)\n",
    "ax.tick_params(axis='x', labelrotation = 90)\n",
    "plt.show()"
   ]
  },
  {
   "cell_type": "markdown",
   "metadata": {},
   "source": [
    "##### Not repaired"
   ]
  },
  {
   "cell_type": "code",
   "execution_count": 27,
   "metadata": {},
   "outputs": [
    {
     "data": {
      "image/png": "[encoded data removed]",
      "text/plain": [
       "<Figure size 640x480 with 1 Axes>"
      ]
     },
     "metadata": {},
     "output_type": "display_data"
    }
   ],
   "source": [
    "plt.title('Not Repaired Type Distribution Plot')\n",
    "sns.histplot(df[\"not_repaired\"], kde=False)\n",
    "plt.show()"
   ]
  },
  {
   "cell_type": "markdown",
   "metadata": {},
   "source": [
    "### Conclusion\n",
    "\n",
    "Los descubrimientos mas relevantes es que hay determinadas categorias que poseen datos poco utiles debido diversos factores descritos para cada caso despues de analizarlos, por lo que decidi que los registros con estos valores atipicos se van a excluir tambien del dataset para el entrenamiento del modelo, el dataset final queda de la siguiente forma (con 301,114 registros restantes, me parece suficiente data para el entrenamiento de los modelos)"
   ]
  },
  {
   "cell_type": "code",
   "execution_count": 28,
   "metadata": {},
   "outputs": [
    {
     "data": {
      "text/html": [
       "<div>\n",
       "<style scoped>\n",
       "    .dataframe tbody tr th:only-of-type {\n",
       "        vertical-align: middle;\n",
       "    }\n",
       "\n",
       "    .dataframe tbody tr th {\n",
       "        vertical-align: top;\n",
       "    }\n",
       "\n",
       "    .dataframe thead th {\n",
       "        text-align: right;\n",
       "    }\n",
       "</style>\n",
       "<table border=\"1\" class=\"dataframe\">\n",
       "  <thead>\n",
       "    <tr style=\"text-align: right;\">\n",
       "      <th></th>\n",
       "      <th>price</th>\n",
       "      <th>vehicle_type</th>\n",
       "      <th>registration_year</th>\n",
       "      <th>gearbox</th>\n",
       "      <th>power</th>\n",
       "      <th>model</th>\n",
       "      <th>mileage</th>\n",
       "      <th>fuel_type</th>\n",
       "      <th>brand</th>\n",
       "      <th>not_repaired</th>\n",
       "    </tr>\n",
       "  </thead>\n",
       "  <tbody>\n",
       "    <tr>\n",
       "      <th>256483</th>\n",
       "      <td>6900</td>\n",
       "      <td>sedan</td>\n",
       "      <td>2007</td>\n",
       "      <td>manual</td>\n",
       "      <td>170</td>\n",
       "      <td>c_klasse</td>\n",
       "      <td>150000</td>\n",
       "      <td>gasoline</td>\n",
       "      <td>mercedes_benz</td>\n",
       "      <td>no</td>\n",
       "    </tr>\n",
       "    <tr>\n",
       "      <th>324102</th>\n",
       "      <td>1150</td>\n",
       "      <td>small</td>\n",
       "      <td>1998</td>\n",
       "      <td>manual</td>\n",
       "      <td>75</td>\n",
       "      <td>polo</td>\n",
       "      <td>150000</td>\n",
       "      <td>lpg</td>\n",
       "      <td>volkswagen</td>\n",
       "      <td>no</td>\n",
       "    </tr>\n",
       "    <tr>\n",
       "      <th>91517</th>\n",
       "      <td>100</td>\n",
       "      <td>sedan</td>\n",
       "      <td>1997</td>\n",
       "      <td>manual</td>\n",
       "      <td>90</td>\n",
       "      <td>laguna</td>\n",
       "      <td>150000</td>\n",
       "      <td>petrol</td>\n",
       "      <td>renault</td>\n",
       "      <td>no</td>\n",
       "    </tr>\n",
       "    <tr>\n",
       "      <th>202938</th>\n",
       "      <td>1300</td>\n",
       "      <td>wagon</td>\n",
       "      <td>2003</td>\n",
       "      <td>manual</td>\n",
       "      <td>131</td>\n",
       "      <td>mondeo</td>\n",
       "      <td>150000</td>\n",
       "      <td>gasoline</td>\n",
       "      <td>ford</td>\n",
       "      <td>yes</td>\n",
       "    </tr>\n",
       "    <tr>\n",
       "      <th>304749</th>\n",
       "      <td>1150</td>\n",
       "      <td>Sin_dato_vt</td>\n",
       "      <td>2005</td>\n",
       "      <td>manual</td>\n",
       "      <td>115</td>\n",
       "      <td>mondeo</td>\n",
       "      <td>150000</td>\n",
       "      <td>Sin_dato_ft</td>\n",
       "      <td>ford</td>\n",
       "      <td>no</td>\n",
       "    </tr>\n",
       "    <tr>\n",
       "      <th>263532</th>\n",
       "      <td>1650</td>\n",
       "      <td>wagon</td>\n",
       "      <td>1999</td>\n",
       "      <td>manual</td>\n",
       "      <td>116</td>\n",
       "      <td>passat</td>\n",
       "      <td>150000</td>\n",
       "      <td>gasoline</td>\n",
       "      <td>volkswagen</td>\n",
       "      <td>no</td>\n",
       "    </tr>\n",
       "    <tr>\n",
       "      <th>30568</th>\n",
       "      <td>800</td>\n",
       "      <td>small</td>\n",
       "      <td>2002</td>\n",
       "      <td>manual</td>\n",
       "      <td>60</td>\n",
       "      <td>ka</td>\n",
       "      <td>150000</td>\n",
       "      <td>petrol</td>\n",
       "      <td>ford</td>\n",
       "      <td>no</td>\n",
       "    </tr>\n",
       "    <tr>\n",
       "      <th>264582</th>\n",
       "      <td>1500</td>\n",
       "      <td>small</td>\n",
       "      <td>1997</td>\n",
       "      <td>manual</td>\n",
       "      <td>54</td>\n",
       "      <td>twingo</td>\n",
       "      <td>125000</td>\n",
       "      <td>petrol</td>\n",
       "      <td>renault</td>\n",
       "      <td>no</td>\n",
       "    </tr>\n",
       "    <tr>\n",
       "      <th>245169</th>\n",
       "      <td>18900</td>\n",
       "      <td>convertible</td>\n",
       "      <td>2007</td>\n",
       "      <td>manual</td>\n",
       "      <td>177</td>\n",
       "      <td>z_reihe</td>\n",
       "      <td>40000</td>\n",
       "      <td>petrol</td>\n",
       "      <td>bmw</td>\n",
       "      <td>no</td>\n",
       "    </tr>\n",
       "    <tr>\n",
       "      <th>76846</th>\n",
       "      <td>4900</td>\n",
       "      <td>sedan</td>\n",
       "      <td>2006</td>\n",
       "      <td>manual</td>\n",
       "      <td>105</td>\n",
       "      <td>leon</td>\n",
       "      <td>90000</td>\n",
       "      <td>petrol</td>\n",
       "      <td>seat</td>\n",
       "      <td>no</td>\n",
       "    </tr>\n",
       "  </tbody>\n",
       "</table>\n",
       "</div>"
      ],
      "text/plain": [
       "        price vehicle_type  registration_year gearbox  power     model  \\\n",
       "256483   6900        sedan               2007  manual    170  c_klasse   \n",
       "324102   1150        small               1998  manual     75      polo   \n",
       "91517     100        sedan               1997  manual     90    laguna   \n",
       "202938   1300        wagon               2003  manual    131    mondeo   \n",
       "304749   1150  Sin_dato_vt               2005  manual    115    mondeo   \n",
       "263532   1650        wagon               1999  manual    116    passat   \n",
       "30568     800        small               2002  manual     60        ka   \n",
       "264582   1500        small               1997  manual     54    twingo   \n",
       "245169  18900  convertible               2007  manual    177   z_reihe   \n",
       "76846    4900        sedan               2006  manual    105      leon   \n",
       "\n",
       "        mileage    fuel_type          brand not_repaired  \n",
       "256483   150000     gasoline  mercedes_benz           no  \n",
       "324102   150000          lpg     volkswagen           no  \n",
       "91517    150000       petrol        renault           no  \n",
       "202938   150000     gasoline           ford          yes  \n",
       "304749   150000  Sin_dato_ft           ford           no  \n",
       "263532   150000     gasoline     volkswagen           no  \n",
       "30568    150000       petrol           ford           no  \n",
       "264582   125000       petrol        renault           no  \n",
       "245169    40000       petrol            bmw           no  \n",
       "76846     90000       petrol           seat           no  "
      ]
     },
     "execution_count": 28,
     "metadata": {},
     "output_type": "execute_result"
    }
   ],
   "source": [
    "df.sample(10)"
   ]
  },
  {
   "cell_type": "markdown",
   "metadata": {},
   "source": [
    "### Correlation Map"
   ]
  },
  {
   "cell_type": "code",
   "execution_count": 29,
   "metadata": {},
   "outputs": [
    {
     "data": {
      "text/plain": [
       "<Axes: >"
      ]
     },
     "execution_count": 29,
     "metadata": {},
     "output_type": "execute_result"
    },
    {
     "data": {
      "image/png": "[encoded data removed]",
      "text/plain": [
       "<Figure size 640x480 with 2 Axes>"
      ]
     },
     "metadata": {},
     "output_type": "display_data"
    }
   ],
   "source": [
    "correlation_mtx = df.loc[:,[\"registration_year\",\"power\",\"mileage\", \"price\"]].corr()\n",
    "sns.heatmap(correlation_mtx,annot=True)"
   ]
  },
  {
   "cell_type": "markdown",
   "metadata": {},
   "source": [
    "##### Analisis\n",
    "Observamos que no hay una correlacion suficientemente fuerte entre las variables independientes y la variable objetivo que justifique el excluir alguna del entrenamiento"
   ]
  },
  {
   "cell_type": "markdown",
   "metadata": {},
   "source": [
    "<div class=\"alert alert-block alert-success\">\n",
    "<b>Comentario del revisor (1ra Iteracion)</b> <a class=“tocSkip”></a>\n",
    "\n",
    "Buen trabajo con los procesamientos realizados a tus datos previo al entrenamiento de los mismos. Realizaste una exploración bastante detallada y bien ilustrada para cada una de tus variables\n",
    "</div>"
   ]
  },
  {
   "cell_type": "markdown",
   "metadata": {},
   "source": [
    "## Entrenamiento del modelo "
   ]
  },
  {
   "cell_type": "markdown",
   "metadata": {},
   "source": [
    "## Conversion de datos categoricos a numericos"
   ]
  },
  {
   "cell_type": "markdown",
   "metadata": {},
   "source": [
    "##### Target Encodign\n",
    "\n",
    "Vamos a convertir las columnas de valores categoricos a numericos para poder hacer uso de ellas en la linear regression, usando la tecnica de TargetEncoder() que nos permite remplazar un valor categorico con el promedio de la variable objetivo para los samples de esa categoria (Esto sirve si ambas variables tienen una correlacion fuerte)"
   ]
  },
  {
   "cell_type": "code",
   "execution_count": 30,
   "metadata": {},
   "outputs": [],
   "source": [
    "target_encoder = ce.TargetEncoder() #creamos el obj target_encoder"
   ]
  },
  {
   "cell_type": "code",
   "execution_count": 31,
   "metadata": {},
   "outputs": [],
   "source": [
    "df_encoded = df.copy()"
   ]
  },
  {
   "cell_type": "code",
   "execution_count": 32,
   "metadata": {},
   "outputs": [],
   "source": [
    "# Convertimos la columna model\n",
    "df_encoded['model_encoded'] = target_encoder.fit_transform(df_encoded['model'], df_encoded['price'])\n",
    "\n",
    "# Convertimos la columna brand\n",
    "df_encoded['brand_encoded'] = target_encoder.fit_transform(df_encoded['brand'], df_encoded['price'])\n",
    "\n",
    "# Convertimos la columna vehicle_type\n",
    "df_encoded['vehicle_type_encoded'] = target_encoder.fit_transform(df_encoded['vehicle_type'], df_encoded['price'])"
   ]
  },
  {
   "cell_type": "markdown",
   "metadata": {},
   "source": [
    "##### One-Hot Encoding\n",
    "vamos a convertir las columnas categoricas para gearbox y fuell_type con One-Hot para su uso en el entrenamiento de los modelos"
   ]
  },
  {
   "cell_type": "code",
   "execution_count": 33,
   "metadata": {},
   "outputs": [],
   "source": [
    "# Convertimos la columna gearbox\n",
    "df_encoded = pd.get_dummies(df_encoded, columns=['gearbox'], drop_first=True)\n",
    "\n",
    "# Convertimos la columna fuel_type\n",
    "df_encoded = pd.get_dummies(df_encoded, columns=['fuel_type'], drop_first=True)\n",
    "\n",
    "# Convertimos la columna not_repaired\n",
    "df_encoded = pd.get_dummies(df_encoded, columns=['not_repaired'], drop_first=True)"
   ]
  },
  {
   "cell_type": "code",
   "execution_count": 34,
   "metadata": {},
   "outputs": [
    {
     "data": {
      "text/html": [
       "<div>\n",
       "<style scoped>\n",
       "    .dataframe tbody tr th:only-of-type {\n",
       "        vertical-align: middle;\n",
       "    }\n",
       "\n",
       "    .dataframe tbody tr th {\n",
       "        vertical-align: top;\n",
       "    }\n",
       "\n",
       "    .dataframe thead th {\n",
       "        text-align: right;\n",
       "    }\n",
       "</style>\n",
       "<table border=\"1\" class=\"dataframe\">\n",
       "  <thead>\n",
       "    <tr style=\"text-align: right;\">\n",
       "      <th></th>\n",
       "      <th>price</th>\n",
       "      <th>vehicle_type</th>\n",
       "      <th>registration_year</th>\n",
       "      <th>power</th>\n",
       "      <th>model</th>\n",
       "      <th>mileage</th>\n",
       "      <th>brand</th>\n",
       "      <th>model_encoded</th>\n",
       "      <th>brand_encoded</th>\n",
       "      <th>vehicle_type_encoded</th>\n",
       "      <th>...</th>\n",
       "      <th>gearbox_manual</th>\n",
       "      <th>fuel_type_cng</th>\n",
       "      <th>fuel_type_electric</th>\n",
       "      <th>fuel_type_gasoline</th>\n",
       "      <th>fuel_type_hybrid</th>\n",
       "      <th>fuel_type_lpg</th>\n",
       "      <th>fuel_type_other</th>\n",
       "      <th>fuel_type_petrol</th>\n",
       "      <th>not_repaired_no</th>\n",
       "      <th>not_repaired_yes</th>\n",
       "    </tr>\n",
       "  </thead>\n",
       "  <tbody>\n",
       "    <tr>\n",
       "      <th>285469</th>\n",
       "      <td>6990</td>\n",
       "      <td>coupe</td>\n",
       "      <td>1979</td>\n",
       "      <td>180</td>\n",
       "      <td>Sin_dato_md</td>\n",
       "      <td>90000</td>\n",
       "      <td>sonstige_autos</td>\n",
       "      <td>3767.973028</td>\n",
       "      <td>7851.851183</td>\n",
       "      <td>6414.789339</td>\n",
       "      <td>...</td>\n",
       "      <td>False</td>\n",
       "      <td>False</td>\n",
       "      <td>False</td>\n",
       "      <td>False</td>\n",
       "      <td>False</td>\n",
       "      <td>False</td>\n",
       "      <td>False</td>\n",
       "      <td>True</td>\n",
       "      <td>False</td>\n",
       "      <td>True</td>\n",
       "    </tr>\n",
       "    <tr>\n",
       "      <th>135420</th>\n",
       "      <td>7250</td>\n",
       "      <td>sedan</td>\n",
       "      <td>2007</td>\n",
       "      <td>143</td>\n",
       "      <td>1er</td>\n",
       "      <td>150000</td>\n",
       "      <td>bmw</td>\n",
       "      <td>10080.316943</td>\n",
       "      <td>6569.788172</td>\n",
       "      <td>4992.286902</td>\n",
       "      <td>...</td>\n",
       "      <td>False</td>\n",
       "      <td>False</td>\n",
       "      <td>False</td>\n",
       "      <td>True</td>\n",
       "      <td>False</td>\n",
       "      <td>False</td>\n",
       "      <td>False</td>\n",
       "      <td>False</td>\n",
       "      <td>True</td>\n",
       "      <td>False</td>\n",
       "    </tr>\n",
       "    <tr>\n",
       "      <th>334575</th>\n",
       "      <td>1750</td>\n",
       "      <td>bus</td>\n",
       "      <td>2000</td>\n",
       "      <td>101</td>\n",
       "      <td>zafira</td>\n",
       "      <td>150000</td>\n",
       "      <td>opel</td>\n",
       "      <td>3932.361027</td>\n",
       "      <td>3113.132100</td>\n",
       "      <td>5755.354915</td>\n",
       "      <td>...</td>\n",
       "      <td>True</td>\n",
       "      <td>False</td>\n",
       "      <td>False</td>\n",
       "      <td>True</td>\n",
       "      <td>False</td>\n",
       "      <td>False</td>\n",
       "      <td>False</td>\n",
       "      <td>False</td>\n",
       "      <td>True</td>\n",
       "      <td>False</td>\n",
       "    </tr>\n",
       "    <tr>\n",
       "      <th>103854</th>\n",
       "      <td>15999</td>\n",
       "      <td>suv</td>\n",
       "      <td>2012</td>\n",
       "      <td>163</td>\n",
       "      <td>kuga</td>\n",
       "      <td>100000</td>\n",
       "      <td>ford</td>\n",
       "      <td>14233.775244</td>\n",
       "      <td>3527.133308</td>\n",
       "      <td>9385.065652</td>\n",
       "      <td>...</td>\n",
       "      <td>False</td>\n",
       "      <td>False</td>\n",
       "      <td>False</td>\n",
       "      <td>True</td>\n",
       "      <td>False</td>\n",
       "      <td>False</td>\n",
       "      <td>False</td>\n",
       "      <td>False</td>\n",
       "      <td>True</td>\n",
       "      <td>False</td>\n",
       "    </tr>\n",
       "    <tr>\n",
       "      <th>86994</th>\n",
       "      <td>7200</td>\n",
       "      <td>Sin_dato_vt</td>\n",
       "      <td>2017</td>\n",
       "      <td>80</td>\n",
       "      <td>golf</td>\n",
       "      <td>150000</td>\n",
       "      <td>volkswagen</td>\n",
       "      <td>4481.418021</td>\n",
       "      <td>4831.774201</td>\n",
       "      <td>3075.709092</td>\n",
       "      <td>...</td>\n",
       "      <td>True</td>\n",
       "      <td>False</td>\n",
       "      <td>False</td>\n",
       "      <td>False</td>\n",
       "      <td>False</td>\n",
       "      <td>False</td>\n",
       "      <td>False</td>\n",
       "      <td>False</td>\n",
       "      <td>False</td>\n",
       "      <td>False</td>\n",
       "    </tr>\n",
       "  </tbody>\n",
       "</table>\n",
       "<p>5 rows × 21 columns</p>\n",
       "</div>"
      ],
      "text/plain": [
       "        price vehicle_type  registration_year  power        model  mileage  \\\n",
       "285469   6990        coupe               1979    180  Sin_dato_md    90000   \n",
       "135420   7250        sedan               2007    143          1er   150000   \n",
       "334575   1750          bus               2000    101       zafira   150000   \n",
       "103854  15999          suv               2012    163         kuga   100000   \n",
       "86994    7200  Sin_dato_vt               2017     80         golf   150000   \n",
       "\n",
       "                 brand  model_encoded  brand_encoded  vehicle_type_encoded  \\\n",
       "285469  sonstige_autos    3767.973028    7851.851183           6414.789339   \n",
       "135420             bmw   10080.316943    6569.788172           4992.286902   \n",
       "334575            opel    3932.361027    3113.132100           5755.354915   \n",
       "103854            ford   14233.775244    3527.133308           9385.065652   \n",
       "86994       volkswagen    4481.418021    4831.774201           3075.709092   \n",
       "\n",
       "        ...  gearbox_manual  fuel_type_cng  fuel_type_electric  \\\n",
       "285469  ...           False          False               False   \n",
       "135420  ...           False          False               False   \n",
       "334575  ...            True          False               False   \n",
       "103854  ...           False          False               False   \n",
       "86994   ...            True          False               False   \n",
       "\n",
       "        fuel_type_gasoline  fuel_type_hybrid  fuel_type_lpg  fuel_type_other  \\\n",
       "285469               False             False          False            False   \n",
       "135420                True             False          False            False   \n",
       "334575                True             False          False            False   \n",
       "103854                True             False          False            False   \n",
       "86994                False             False          False            False   \n",
       "\n",
       "        fuel_type_petrol  not_repaired_no  not_repaired_yes  \n",
       "285469              True            False              True  \n",
       "135420             False             True             False  \n",
       "334575             False             True             False  \n",
       "103854             False             True             False  \n",
       "86994              False            False             False  \n",
       "\n",
       "[5 rows x 21 columns]"
      ]
     },
     "execution_count": 34,
     "metadata": {},
     "output_type": "execute_result"
    }
   ],
   "source": [
    "df_encoded.sample(5)"
   ]
  },
  {
   "cell_type": "code",
   "execution_count": 35,
   "metadata": {
    "scrolled": true
   },
   "outputs": [
    {
     "data": {
      "text/html": [
       "<div>\n",
       "<style scoped>\n",
       "    .dataframe tbody tr th:only-of-type {\n",
       "        vertical-align: middle;\n",
       "    }\n",
       "\n",
       "    .dataframe tbody tr th {\n",
       "        vertical-align: top;\n",
       "    }\n",
       "\n",
       "    .dataframe thead th {\n",
       "        text-align: right;\n",
       "    }\n",
       "</style>\n",
       "<table border=\"1\" class=\"dataframe\">\n",
       "  <thead>\n",
       "    <tr style=\"text-align: right;\">\n",
       "      <th></th>\n",
       "      <th>price</th>\n",
       "      <th>vehicle_type</th>\n",
       "      <th>registration_year</th>\n",
       "      <th>gearbox</th>\n",
       "      <th>power</th>\n",
       "      <th>model</th>\n",
       "      <th>mileage</th>\n",
       "      <th>fuel_type</th>\n",
       "      <th>brand</th>\n",
       "      <th>not_repaired</th>\n",
       "    </tr>\n",
       "  </thead>\n",
       "  <tbody>\n",
       "    <tr>\n",
       "      <th>173073</th>\n",
       "      <td>2000</td>\n",
       "      <td>sedan</td>\n",
       "      <td>2000</td>\n",
       "      <td>manual</td>\n",
       "      <td>118</td>\n",
       "      <td>3er</td>\n",
       "      <td>150000</td>\n",
       "      <td>petrol</td>\n",
       "      <td>bmw</td>\n",
       "      <td>Sin_dato_nr</td>\n",
       "    </tr>\n",
       "    <tr>\n",
       "      <th>78765</th>\n",
       "      <td>1500</td>\n",
       "      <td>sedan</td>\n",
       "      <td>2004</td>\n",
       "      <td>manual</td>\n",
       "      <td>75</td>\n",
       "      <td>focus</td>\n",
       "      <td>150000</td>\n",
       "      <td>petrol</td>\n",
       "      <td>ford</td>\n",
       "      <td>no</td>\n",
       "    </tr>\n",
       "    <tr>\n",
       "      <th>262303</th>\n",
       "      <td>550</td>\n",
       "      <td>wagon</td>\n",
       "      <td>1998</td>\n",
       "      <td>manual</td>\n",
       "      <td>190</td>\n",
       "      <td>passat</td>\n",
       "      <td>150000</td>\n",
       "      <td>petrol</td>\n",
       "      <td>volkswagen</td>\n",
       "      <td>yes</td>\n",
       "    </tr>\n",
       "    <tr>\n",
       "      <th>84893</th>\n",
       "      <td>4400</td>\n",
       "      <td>sedan</td>\n",
       "      <td>2008</td>\n",
       "      <td>manual</td>\n",
       "      <td>101</td>\n",
       "      <td>focus</td>\n",
       "      <td>125000</td>\n",
       "      <td>petrol</td>\n",
       "      <td>ford</td>\n",
       "      <td>no</td>\n",
       "    </tr>\n",
       "    <tr>\n",
       "      <th>264808</th>\n",
       "      <td>1950</td>\n",
       "      <td>sedan</td>\n",
       "      <td>2000</td>\n",
       "      <td>auto</td>\n",
       "      <td>193</td>\n",
       "      <td>passat</td>\n",
       "      <td>150000</td>\n",
       "      <td>petrol</td>\n",
       "      <td>volkswagen</td>\n",
       "      <td>no</td>\n",
       "    </tr>\n",
       "  </tbody>\n",
       "</table>\n",
       "</div>"
      ],
      "text/plain": [
       "        price vehicle_type  registration_year gearbox  power   model  mileage  \\\n",
       "173073   2000        sedan               2000  manual    118     3er   150000   \n",
       "78765    1500        sedan               2004  manual     75   focus   150000   \n",
       "262303    550        wagon               1998  manual    190  passat   150000   \n",
       "84893    4400        sedan               2008  manual    101   focus   125000   \n",
       "264808   1950        sedan               2000    auto    193  passat   150000   \n",
       "\n",
       "       fuel_type       brand not_repaired  \n",
       "173073    petrol         bmw  Sin_dato_nr  \n",
       "78765     petrol        ford           no  \n",
       "262303    petrol  volkswagen          yes  \n",
       "84893     petrol        ford           no  \n",
       "264808    petrol  volkswagen           no  "
      ]
     },
     "execution_count": 35,
     "metadata": {},
     "output_type": "execute_result"
    }
   ],
   "source": [
    "df.sample(5)"
   ]
  },
  {
   "cell_type": "markdown",
   "metadata": {},
   "source": [
    "##### Resumen\n",
    "\n",
    "Ahora si tenemos las columnas categoricas en valores numericos para ser usandas en la regresion lineal."
   ]
  },
  {
   "cell_type": "markdown",
   "metadata": {},
   "source": [
    "<div class=\"alert alert-block alert-warning\">\n",
    "<b>Comentario del revisor (1ra Iteracion)</b> <a class=“tocSkip”></a>\n",
    "\n",
    "Buen trabajo! Cuando quieras ver unos cuantos datos o una muestra de estos te recomiendo usar `head()` o `sample()` en lugar de mostrar el dataset entero\n",
    "</div>"
   ]
  },
  {
   "cell_type": "markdown",
   "metadata": {},
   "source": [
    "## Linear Regression"
   ]
  },
  {
   "cell_type": "code",
   "execution_count": 36,
   "metadata": {},
   "outputs": [],
   "source": [
    "def linear_regression_process(cars_df):\n",
    "    inicio = time.time()\n",
    "    ## Declare model\n",
    "    linear_model = LinearRegression()\n",
    "    \n",
    "    ## Select just numeric data\n",
    "    cars_data = cars_df.select_dtypes(include = [\"number\"])\n",
    "    \n",
    "    ## Split Data\n",
    "    target = cars_data['price']\n",
    "    features = cars_data.drop('price', axis=1)\n",
    "    features_train, features_test, target_train, target_test = train_test_split(features, target, test_size=0.30, random_state=2357)\n",
    "\n",
    "    ##Linear regression\n",
    "    init = time.time()\n",
    "    linear_model.fit(features_train, target_train)\n",
    "    end = time.time()\n",
    "    training_time = end - init\n",
    "    \n",
    "    r_sq = linear_model.score(features_train, target_train)\n",
    "    print(f\"Coefficients: {linear_model.coef_}\")\n",
    "    print(f\"Coefficient of determination (r2 score): {r_sq}\")\n",
    "\n",
    "    ##predict\n",
    "    init = time.time()\n",
    "    target_predicted = linear_model.predict(features_test)\n",
    "    end = time.time()\n",
    "    predict_time = end - init\n",
    "\n",
    "    ##model evaluation\n",
    "    print()\n",
    "    rmse = (np.sqrt(mean_squared_error(target_test, target_predicted)))\n",
    "    r2 = r2_score(target_test, target_predicted)\n",
    "    print(\"Testing performance\")\n",
    "    print(\"RMSE: {:.5f}\".format(rmse))\n",
    "    print(\"R2: {:.5f}\".format(r2))\n",
    "\n",
    "    print()\n",
    "    print(\"Speed execution\")\n",
    "    print(\"Training: {:.5f}\".format(training_time))\n",
    "    print(\"Predicted: {:.5f}\".format(predict_time))"
   ]
  },
  {
   "cell_type": "code",
   "execution_count": 37,
   "metadata": {},
   "outputs": [
    {
     "name": "stdout",
     "output_type": "stream",
     "text": [
      "Coefficients: [ 2.05635715e+02  2.81610950e+01 -4.19676623e-02  4.15933083e-01\n",
      "  1.90384539e-01  3.89353041e-01]\n",
      "Coefficient of determination (r2 score): 0.6035352988309362\n",
      "\n",
      "Testing performance\n",
      "RMSE: 2901.40741\n",
      "R2: 0.59948\n",
      "\n",
      "Speed execution\n",
      "Training: 0.01651\n",
      "Predicted: 0.00200\n"
     ]
    }
   ],
   "source": [
    "linear_regression_process(df_encoded)"
   ]
  },
  {
   "cell_type": "markdown",
   "metadata": {},
   "source": [
    "## CatBoostRegressor Model"
   ]
  },
  {
   "cell_type": "code",
   "execution_count": 38,
   "metadata": {},
   "outputs": [],
   "source": [
    "def catboost_process(cars_data, loss_func):\n",
    "    inicio = time.time()\n",
    "    ## Split Data\n",
    "    target = cars_data['price']\n",
    "    features = cars_data.drop('price', axis=1)\n",
    "    features_train, features_test, target_train, target_test = train_test_split(features, target, test_size=0.30, random_state=2357)\n",
    "    \n",
    "    categorical_features = [\n",
    "        'vehicle_type',\n",
    "        'gearbox',\n",
    "        'model',\n",
    "        'fuel_type',\n",
    "        'brand',\n",
    "        'not_repaired',\n",
    "    ]\n",
    "\n",
    "    init = time.time()\n",
    "    model = CatBoostRegressor(loss_function=loss_func, iterations=150, random_seed=12345)\n",
    "    model.fit(features_train, target_train, cat_features=categorical_features, verbose=10)\n",
    "    end = time.time()\n",
    "    training_time = end - init\n",
    "\n",
    "    init = time.time()\n",
    "    target_predicted = model.predict(features_test)\n",
    "    end = time.time()\n",
    "    predict_time = end - init\n",
    "    \n",
    "    rmse = (np.sqrt(mean_squared_error(target_test, target_predicted)))\n",
    "    r2 = r2_score(target_test, target_predicted)\n",
    "    print()\n",
    "    print(\"Testing performance\")\n",
    "    print(\"RMSE: {:.5f}\".format(rmse))\n",
    "    print(\"R2: {:.5f}\".format(r2))\n",
    "\n",
    "    print()\n",
    "    print(\"Speed execution\")\n",
    "    print(\"Training: {:.5f}\".format(training_time))\n",
    "    print(\"Predicted: {:.5f}\".format(predict_time))"
   ]
  },
  {
   "cell_type": "code",
   "execution_count": 39,
   "metadata": {},
   "outputs": [
    {
     "name": "stdout",
     "output_type": "stream",
     "text": [
      "Learning rate set to 0.445843\n",
      "0:\tlearn: 3433.9481381\ttotal: 195ms\tremaining: 29.1s\n",
      "10:\tlearn: 1934.4565616\ttotal: 715ms\tremaining: 9.04s\n",
      "20:\tlearn: 1827.6160472\ttotal: 1.23s\tremaining: 7.56s\n",
      "30:\tlearn: 1782.8172186\ttotal: 1.73s\tremaining: 6.65s\n",
      "40:\tlearn: 1749.4279681\ttotal: 2.24s\tremaining: 5.95s\n",
      "50:\tlearn: 1724.6829994\ttotal: 2.75s\tremaining: 5.33s\n",
      "60:\tlearn: 1704.1002579\ttotal: 3.38s\tremaining: 4.93s\n",
      "70:\tlearn: 1685.3369981\ttotal: 3.91s\tremaining: 4.35s\n",
      "80:\tlearn: 1674.7314181\ttotal: 4.42s\tremaining: 3.76s\n",
      "90:\tlearn: 1659.8870643\ttotal: 4.93s\tremaining: 3.19s\n",
      "100:\tlearn: 1648.4516247\ttotal: 5.44s\tremaining: 2.64s\n",
      "110:\tlearn: 1640.4163381\ttotal: 5.95s\tremaining: 2.09s\n",
      "120:\tlearn: 1630.9747792\ttotal: 6.48s\tremaining: 1.55s\n",
      "130:\tlearn: 1623.3421781\ttotal: 6.99s\tremaining: 1.01s\n",
      "140:\tlearn: 1615.4084872\ttotal: 7.5s\tremaining: 479ms\n",
      "149:\tlearn: 1609.2639399\ttotal: 7.96s\tremaining: 0us\n",
      "\n",
      "Testing performance\n",
      "RMSE: 1660.87417\n",
      "R2: 0.86876\n",
      "\n",
      "Speed execution\n",
      "Training: 8.39588\n",
      "Predicted: 0.12008\n"
     ]
    }
   ],
   "source": [
    "catboost_process(df, \"RMSE\")"
   ]
  },
  {
   "cell_type": "code",
   "execution_count": 40,
   "metadata": {},
   "outputs": [
    {
     "name": "stdout",
     "output_type": "stream",
     "text": [
      "0:\tlearn: 3325.3216357\ttotal: 69.2ms\tremaining: 10.3s\n",
      "10:\tlearn: 2721.0230896\ttotal: 747ms\tremaining: 9.44s\n",
      "20:\tlearn: 2309.0838784\ttotal: 1.45s\tremaining: 8.94s\n",
      "30:\tlearn: 2011.4504063\ttotal: 2.09s\tremaining: 8.01s\n",
      "40:\tlearn: 1801.1637831\ttotal: 2.84s\tremaining: 7.55s\n",
      "50:\tlearn: 1658.4720405\ttotal: 3.48s\tremaining: 6.75s\n",
      "60:\tlearn: 1556.1753573\ttotal: 4.16s\tremaining: 6.08s\n",
      "70:\tlearn: 1476.6245029\ttotal: 4.9s\tremaining: 5.45s\n",
      "80:\tlearn: 1414.4376884\ttotal: 5.57s\tremaining: 4.74s\n",
      "90:\tlearn: 1368.6241047\ttotal: 6.2s\tremaining: 4.02s\n",
      "100:\tlearn: 1329.4958976\ttotal: 6.83s\tremaining: 3.31s\n",
      "110:\tlearn: 1303.0528546\ttotal: 7.45s\tremaining: 2.62s\n",
      "120:\tlearn: 1281.1511406\ttotal: 8.09s\tremaining: 1.94s\n",
      "130:\tlearn: 1261.0803560\ttotal: 8.72s\tremaining: 1.26s\n",
      "140:\tlearn: 1244.0769738\ttotal: 9.36s\tremaining: 597ms\n",
      "149:\tlearn: 1233.3642657\ttotal: 9.93s\tremaining: 0us\n",
      "\n",
      "Testing performance\n",
      "RMSE: 1982.26026\n",
      "R2: 0.81305\n",
      "\n",
      "Speed execution\n",
      "Training: 10.33013\n",
      "Predicted: 0.12049\n"
     ]
    }
   ],
   "source": [
    "## MAE es menos sensible a los outliers\n",
    "catboost_process(df, \"MAE\")"
   ]
  },
  {
   "cell_type": "code",
   "execution_count": 41,
   "metadata": {},
   "outputs": [
    {
     "name": "stdout",
     "output_type": "stream",
     "text": [
      "0:\tlearn: 1662.6608179\ttotal: 67.7ms\tremaining: 10.1s\n",
      "10:\tlearn: 1360.5115448\ttotal: 736ms\tremaining: 9.3s\n",
      "20:\tlearn: 1154.5419392\ttotal: 1.37s\tremaining: 8.42s\n",
      "30:\tlearn: 1005.7252032\ttotal: 2.11s\tremaining: 8.11s\n",
      "40:\tlearn: 900.5818915\ttotal: 2.74s\tremaining: 7.29s\n",
      "50:\tlearn: 829.2360202\ttotal: 3.37s\tremaining: 6.54s\n",
      "60:\tlearn: 778.0876786\ttotal: 4.03s\tremaining: 5.88s\n",
      "70:\tlearn: 738.3122515\ttotal: 4.66s\tremaining: 5.18s\n",
      "80:\tlearn: 707.2188442\ttotal: 5.3s\tremaining: 4.52s\n",
      "90:\tlearn: 684.3120523\ttotal: 6.01s\tremaining: 3.9s\n",
      "100:\tlearn: 664.7479488\ttotal: 6.64s\tremaining: 3.22s\n",
      "110:\tlearn: 651.5264273\ttotal: 7.28s\tremaining: 2.56s\n",
      "120:\tlearn: 640.5755703\ttotal: 7.91s\tremaining: 1.9s\n",
      "130:\tlearn: 630.5401780\ttotal: 8.54s\tremaining: 1.24s\n",
      "140:\tlearn: 622.0384869\ttotal: 9.2s\tremaining: 587ms\n",
      "149:\tlearn: 616.6821329\ttotal: 9.8s\tremaining: 0us\n",
      "\n",
      "Testing performance\n",
      "RMSE: 1982.26026\n",
      "R2: 0.81305\n",
      "\n",
      "Speed execution\n",
      "Training: 10.19396\n",
      "Predicted: 0.12559\n"
     ]
    }
   ],
   "source": [
    "## MAE es menos sensible a los outliers\n",
    "catboost_process(df, \"Quantile\")"
   ]
  },
  {
   "cell_type": "markdown",
   "metadata": {},
   "source": [
    "### LightGBM Model"
   ]
  },
  {
   "cell_type": "code",
   "execution_count": 42,
   "metadata": {},
   "outputs": [],
   "source": [
    "def lightgbm_process(cars_df, metric_func, rounds):\n",
    "    ## Select just numeric data\n",
    "    cars_data = cars_df.select_dtypes(include = [\"number\"])\n",
    "    \n",
    "    ## Split Data\n",
    "    target = cars_data['price']\n",
    "    features = cars_data.drop('price', axis=1)\n",
    "    features_train, features_test, target_train, target_test = train_test_split(features, target, test_size=0.30, random_state=2357)\n",
    "\n",
    "    # Create a LightGBM dataset for training with features X_train and labels Y_train \n",
    "    train_data = lgb.Dataset(features_train, label=target_train) \n",
    "      \n",
    "    # Create a LightGBM dataset for testing with features X_val and labels Y_val, \n",
    "    # and specify the reference dataset as train_data for consistent evaluation\n",
    "    test_data = lgb.Dataset(features_test, label=target_test, reference=train_data) \n",
    "\n",
    "    # Define a dictionary of parameters for configuring the LightGBM regression model. \n",
    "    params = {\n",
    "        'objective': 'regression',\n",
    "        'metric': metric_func,\n",
    "        'boosting_type': 'gbdt',\n",
    "        'num_leaves': 31,\n",
    "        'learning_rate': 0.05,\n",
    "        'feature_fraction': 0.9,\n",
    "    }\n",
    "\n",
    "    # Set the number of rounds and train the model with early stopping \n",
    "    num_round = rounds\n",
    "    init = time.time()\n",
    "    bst = lgb.train(params, train_data, num_round, valid_sets=[test_data], early_stopping_rounds=10)\n",
    "\n",
    "    # Create an instance of the LightGBM Regressor with the RMSE metric. \n",
    "    model = lgb.LGBMRegressor(metric=metric_func) \n",
    "      \n",
    "    # Train the model using the training data. \n",
    "    model.fit(features_train, target_train)\n",
    "    end = time.time()\n",
    "    training_time = end - init\n",
    "      \n",
    "    # Make predictions on the training and validation data.\n",
    "    init = time.time()\n",
    "    target_predicted = model.predict(features_test)\n",
    "    end = time.time()\n",
    "    predict_time = end - init\n",
    "    rmse = (np.sqrt(mean_squared_error(target_test, target_predicted)))\n",
    "    r2 = r2_score(target_test, target_predicted)\n",
    "    print()\n",
    "    print(\"Testing performance\")\n",
    "    print(\"RMSE: {:.5f}\".format(rmse))\n",
    "    print(\"R2: {:.5f}\".format(r2))\n",
    "    \n",
    "    print()\n",
    "    print(\"Speed execution\")\n",
    "    print(\"Training: {:.5f}\".format(training_time))\n",
    "    print(\"predicted: {:.5f}\".format(predict_time))"
   ]
  },
  {
   "cell_type": "code",
   "execution_count": 43,
   "metadata": {
    "scrolled": true
   },
   "outputs": [
    {
     "name": "stderr",
     "output_type": "stream",
     "text": [
      "C:\\Users\\poroj\\anaconda3\\envs\\data_science\\lib\\site-packages\\lightgbm\\engine.py:181: UserWarning: 'early_stopping_rounds' argument is deprecated and will be removed in a future release of LightGBM. Pass 'early_stopping()' callback via 'callbacks' argument instead.\n",
      "  _log_warning(\"'early_stopping_rounds' argument is deprecated and will be removed in a future release of LightGBM. \"\n"
     ]
    },
    {
     "name": "stdout",
     "output_type": "stream",
     "text": [
      "[LightGBM] [Warning] Auto-choosing row-wise multi-threading, the overhead of testing was 0.000757 seconds.\n",
      "You can set `force_row_wise=true` to remove the overhead.\n",
      "And if memory is not enough, you can set `force_col_wise=true`.\n",
      "[LightGBM] [Info] Total Bins 610\n",
      "[LightGBM] [Info] Number of data points in the train set: 210779, number of used features: 6\n",
      "[LightGBM] [Info] Start training from score 4877.699951\n",
      "[1]\tvalid_0's rmse: 4426.69\n",
      "Training until validation scores don't improve for 10 rounds\n",
      "[2]\tvalid_0's rmse: 4267.69\n",
      "[3]\tvalid_0's rmse: 4127.67\n",
      "[4]\tvalid_0's rmse: 3986.74\n",
      "[5]\tvalid_0's rmse: 3853.57\n",
      "[6]\tvalid_0's rmse: 3751.33\n",
      "[7]\tvalid_0's rmse: 3633.4\n",
      "[8]\tvalid_0's rmse: 3527.47\n",
      "[9]\tvalid_0's rmse: 3423.76\n",
      "[10]\tvalid_0's rmse: 3325.36\n",
      "[11]\tvalid_0's rmse: 3233.68\n",
      "[12]\tvalid_0's rmse: 3150.84\n",
      "[13]\tvalid_0's rmse: 3068.75\n",
      "[14]\tvalid_0's rmse: 2991.56\n",
      "[15]\tvalid_0's rmse: 2920.58\n",
      "[16]\tvalid_0's rmse: 2862.72\n",
      "[17]\tvalid_0's rmse: 2796.79\n",
      "[18]\tvalid_0's rmse: 2736.14\n",
      "[19]\tvalid_0's rmse: 2679.44\n",
      "[20]\tvalid_0's rmse: 2633.62\n",
      "[21]\tvalid_0's rmse: 2583.84\n",
      "[22]\tvalid_0's rmse: 2535.51\n",
      "[23]\tvalid_0's rmse: 2492.25\n",
      "[24]\tvalid_0's rmse: 2450.75\n",
      "[25]\tvalid_0's rmse: 2412.83\n",
      "[26]\tvalid_0's rmse: 2377.44\n",
      "[27]\tvalid_0's rmse: 2343.51\n",
      "[28]\tvalid_0's rmse: 2312.43\n",
      "[29]\tvalid_0's rmse: 2283.42\n",
      "[30]\tvalid_0's rmse: 2256.31\n",
      "[31]\tvalid_0's rmse: 2231.69\n",
      "[32]\tvalid_0's rmse: 2209.04\n",
      "[33]\tvalid_0's rmse: 2186.46\n",
      "[34]\tvalid_0's rmse: 2165.61\n",
      "[35]\tvalid_0's rmse: 2146.68\n",
      "[36]\tvalid_0's rmse: 2127.98\n",
      "[37]\tvalid_0's rmse: 2111.38\n",
      "[38]\tvalid_0's rmse: 2096.33\n",
      "[39]\tvalid_0's rmse: 2081.56\n",
      "[40]\tvalid_0's rmse: 2067.33\n",
      "[41]\tvalid_0's rmse: 2053.76\n",
      "[42]\tvalid_0's rmse: 2042.29\n",
      "[43]\tvalid_0's rmse: 2031.1\n",
      "[44]\tvalid_0's rmse: 2020.9\n",
      "[45]\tvalid_0's rmse: 2011.53\n",
      "[46]\tvalid_0's rmse: 2000.14\n",
      "[47]\tvalid_0's rmse: 1991.29\n",
      "[48]\tvalid_0's rmse: 1981.98\n",
      "[49]\tvalid_0's rmse: 1974.35\n",
      "[50]\tvalid_0's rmse: 1965.89\n",
      "[51]\tvalid_0's rmse: 1959.12\n",
      "[52]\tvalid_0's rmse: 1951.16\n",
      "[53]\tvalid_0's rmse: 1943.31\n",
      "[54]\tvalid_0's rmse: 1937.08\n",
      "[55]\tvalid_0's rmse: 1932.03\n",
      "[56]\tvalid_0's rmse: 1926.32\n",
      "[57]\tvalid_0's rmse: 1920.31\n",
      "[58]\tvalid_0's rmse: 1914.78\n",
      "[59]\tvalid_0's rmse: 1909.22\n",
      "[60]\tvalid_0's rmse: 1904.65\n",
      "[61]\tvalid_0's rmse: 1899.79\n",
      "[62]\tvalid_0's rmse: 1895.43\n",
      "[63]\tvalid_0's rmse: 1891.43\n",
      "[64]\tvalid_0's rmse: 1887.49\n",
      "[65]\tvalid_0's rmse: 1883.79\n",
      "[66]\tvalid_0's rmse: 1880.53\n",
      "[67]\tvalid_0's rmse: 1877.25\n",
      "[68]\tvalid_0's rmse: 1874.72\n",
      "[69]\tvalid_0's rmse: 1871.13\n",
      "[70]\tvalid_0's rmse: 1868.21\n",
      "[71]\tvalid_0's rmse: 1865.28\n",
      "[72]\tvalid_0's rmse: 1862.33\n",
      "[73]\tvalid_0's rmse: 1859.49\n",
      "[74]\tvalid_0's rmse: 1856.99\n",
      "[75]\tvalid_0's rmse: 1854.74\n",
      "[76]\tvalid_0's rmse: 1852.62\n",
      "[77]\tvalid_0's rmse: 1850.08\n",
      "[78]\tvalid_0's rmse: 1848.31\n",
      "[79]\tvalid_0's rmse: 1845.79\n",
      "[80]\tvalid_0's rmse: 1843.9\n",
      "[81]\tvalid_0's rmse: 1841.92\n",
      "[82]\tvalid_0's rmse: 1840.27\n",
      "[83]\tvalid_0's rmse: 1838.72\n",
      "[84]\tvalid_0's rmse: 1836.94\n",
      "[85]\tvalid_0's rmse: 1835.5\n",
      "[86]\tvalid_0's rmse: 1833.71\n",
      "[87]\tvalid_0's rmse: 1832.12\n",
      "[88]\tvalid_0's rmse: 1830.49\n",
      "[89]\tvalid_0's rmse: 1828.57\n",
      "[90]\tvalid_0's rmse: 1826.91\n",
      "[91]\tvalid_0's rmse: 1825.81\n",
      "[92]\tvalid_0's rmse: 1824.39\n",
      "[93]\tvalid_0's rmse: 1823.31\n",
      "[94]\tvalid_0's rmse: 1821.58\n",
      "[95]\tvalid_0's rmse: 1820.11\n",
      "[96]\tvalid_0's rmse: 1818.51\n",
      "[97]\tvalid_0's rmse: 1817.13\n",
      "[98]\tvalid_0's rmse: 1815.93\n",
      "[99]\tvalid_0's rmse: 1814.66\n",
      "[100]\tvalid_0's rmse: 1813.67\n",
      "[101]\tvalid_0's rmse: 1812.49\n",
      "[102]\tvalid_0's rmse: 1811.54\n",
      "[103]\tvalid_0's rmse: 1810.64\n",
      "[104]\tvalid_0's rmse: 1809.6\n",
      "[105]\tvalid_0's rmse: 1808.66\n",
      "[106]\tvalid_0's rmse: 1807.67\n",
      "[107]\tvalid_0's rmse: 1806.66\n",
      "[108]\tvalid_0's rmse: 1805.84\n",
      "[109]\tvalid_0's rmse: 1805.01\n",
      "[110]\tvalid_0's rmse: 1804.14\n",
      "[111]\tvalid_0's rmse: 1803.11\n",
      "[112]\tvalid_0's rmse: 1802.34\n",
      "[113]\tvalid_0's rmse: 1801.66\n",
      "[114]\tvalid_0's rmse: 1800.9\n",
      "[115]\tvalid_0's rmse: 1799.74\n",
      "[116]\tvalid_0's rmse: 1799.17\n",
      "[117]\tvalid_0's rmse: 1798.39\n",
      "[118]\tvalid_0's rmse: 1797.6\n",
      "[119]\tvalid_0's rmse: 1796.94\n",
      "[120]\tvalid_0's rmse: 1796.18\n",
      "[121]\tvalid_0's rmse: 1795.48\n",
      "[122]\tvalid_0's rmse: 1794.8\n",
      "[123]\tvalid_0's rmse: 1793.86\n",
      "[124]\tvalid_0's rmse: 1793.09\n",
      "[125]\tvalid_0's rmse: 1792.66\n",
      "[126]\tvalid_0's rmse: 1791.94\n",
      "[127]\tvalid_0's rmse: 1791.16\n",
      "[128]\tvalid_0's rmse: 1790.65\n",
      "[129]\tvalid_0's rmse: 1789.73\n",
      "[130]\tvalid_0's rmse: 1789.4\n",
      "[131]\tvalid_0's rmse: 1788.71\n",
      "[132]\tvalid_0's rmse: 1787.96\n",
      "[133]\tvalid_0's rmse: 1787.21\n",
      "[134]\tvalid_0's rmse: 1786.73\n",
      "[135]\tvalid_0's rmse: 1785.99\n",
      "[136]\tvalid_0's rmse: 1785.37\n",
      "[137]\tvalid_0's rmse: 1784.69\n",
      "[138]\tvalid_0's rmse: 1784.32\n",
      "[139]\tvalid_0's rmse: 1783.71\n",
      "[140]\tvalid_0's rmse: 1783\n",
      "[141]\tvalid_0's rmse: 1782.24\n",
      "[142]\tvalid_0's rmse: 1781.43\n",
      "[143]\tvalid_0's rmse: 1781.1\n",
      "[144]\tvalid_0's rmse: 1780.46\n",
      "[145]\tvalid_0's rmse: 1780.03\n",
      "[146]\tvalid_0's rmse: 1779.26\n",
      "[147]\tvalid_0's rmse: 1778.65\n",
      "[148]\tvalid_0's rmse: 1778.08\n",
      "[149]\tvalid_0's rmse: 1777.28\n",
      "[150]\tvalid_0's rmse: 1777.05\n",
      "Did not meet early stopping. Best iteration is:\n",
      "[150]\tvalid_0's rmse: 1777.05\n",
      "\n",
      "Testing performance\n",
      "RMSE: 1758.61228\n",
      "R2: 0.85285\n",
      "\n",
      "Speed execution\n",
      "Training: 0.76561\n",
      "predicted: 0.05754\n"
     ]
    }
   ],
   "source": [
    "lightgbm_process(df_encoded, 'rmse', 150)"
   ]
  },
  {
   "cell_type": "code",
   "execution_count": 44,
   "metadata": {
    "scrolled": true
   },
   "outputs": [
    {
     "name": "stdout",
     "output_type": "stream",
     "text": [
      "[LightGBM] [Warning] Auto-choosing row-wise multi-threading, the overhead of testing was 0.000701 seconds.\n",
      "You can set `force_row_wise=true` to remove the overhead.\n",
      "And if memory is not enough, you can set `force_col_wise=true`.\n",
      "[LightGBM] [Info] Total Bins 610\n",
      "[LightGBM] [Info] Number of data points in the train set: 210779, number of used features: 6\n",
      "[LightGBM] [Info] Start training from score 4877.699951\n",
      "[1]\tvalid_0's mape: 12.3275\n",
      "Training until validation scores don't improve for 10 rounds\n",
      "[2]\tvalid_0's mape: 12.1181\n",
      "[3]\tvalid_0's mape: 11.9034\n",
      "[4]\tvalid_0's mape: 11.7254\n",
      "[5]\tvalid_0's mape: 11.5482\n",
      "[6]\tvalid_0's mape: 11.4476\n",
      "[7]\tvalid_0's mape: 11.2888\n",
      "[8]\tvalid_0's mape: 11.1157\n",
      "[9]\tvalid_0's mape: 10.9846\n",
      "[10]\tvalid_0's mape: 10.8595\n",
      "[11]\tvalid_0's mape: 10.7391\n",
      "[12]\tvalid_0's mape: 10.6029\n",
      "[13]\tvalid_0's mape: 10.4958\n",
      "[14]\tvalid_0's mape: 10.39\n",
      "[15]\tvalid_0's mape: 10.293\n",
      "[16]\tvalid_0's mape: 10.2252\n",
      "[17]\tvalid_0's mape: 10.1162\n",
      "[18]\tvalid_0's mape: 10.0338\n",
      "[19]\tvalid_0's mape: 9.93522\n",
      "[20]\tvalid_0's mape: 9.8788\n",
      "[21]\tvalid_0's mape: 9.78488\n",
      "[22]\tvalid_0's mape: 9.70351\n",
      "[23]\tvalid_0's mape: 9.63125\n",
      "[24]\tvalid_0's mape: 9.56549\n"
     ]
    },
    {
     "name": "stderr",
     "output_type": "stream",
     "text": [
      "C:\\Users\\poroj\\anaconda3\\envs\\data_science\\lib\\site-packages\\lightgbm\\engine.py:181: UserWarning: 'early_stopping_rounds' argument is deprecated and will be removed in a future release of LightGBM. Pass 'early_stopping()' callback via 'callbacks' argument instead.\n",
      "  _log_warning(\"'early_stopping_rounds' argument is deprecated and will be removed in a future release of LightGBM. \"\n"
     ]
    },
    {
     "name": "stdout",
     "output_type": "stream",
     "text": [
      "[25]\tvalid_0's mape: 9.50497\n",
      "[26]\tvalid_0's mape: 9.43594\n",
      "[27]\tvalid_0's mape: 9.37723\n",
      "[28]\tvalid_0's mape: 9.32297\n",
      "[29]\tvalid_0's mape: 9.27069\n",
      "[30]\tvalid_0's mape: 9.22731\n",
      "[31]\tvalid_0's mape: 9.18021\n",
      "[32]\tvalid_0's mape: 9.14523\n",
      "[33]\tvalid_0's mape: 9.09778\n",
      "[34]\tvalid_0's mape: 9.05503\n",
      "[35]\tvalid_0's mape: 9.01912\n",
      "[36]\tvalid_0's mape: 8.98267\n",
      "[37]\tvalid_0's mape: 8.94571\n",
      "[38]\tvalid_0's mape: 8.91168\n",
      "[39]\tvalid_0's mape: 8.87583\n",
      "[40]\tvalid_0's mape: 8.85158\n",
      "[41]\tvalid_0's mape: 8.81112\n",
      "[42]\tvalid_0's mape: 8.78524\n",
      "[43]\tvalid_0's mape: 8.7605\n",
      "[44]\tvalid_0's mape: 8.73419\n",
      "[45]\tvalid_0's mape: 8.70767\n",
      "[46]\tvalid_0's mape: 8.67056\n",
      "[47]\tvalid_0's mape: 8.64788\n",
      "[48]\tvalid_0's mape: 8.62687\n",
      "[49]\tvalid_0's mape: 8.60089\n",
      "[50]\tvalid_0's mape: 8.5771\n",
      "[51]\tvalid_0's mape: 8.55991\n",
      "[52]\tvalid_0's mape: 8.53101\n",
      "[53]\tvalid_0's mape: 8.51276\n",
      "[54]\tvalid_0's mape: 8.49573\n",
      "[55]\tvalid_0's mape: 8.48345\n",
      "[56]\tvalid_0's mape: 8.4594\n",
      "[57]\tvalid_0's mape: 8.44082\n",
      "[58]\tvalid_0's mape: 8.42309\n",
      "[59]\tvalid_0's mape: 8.40848\n",
      "[60]\tvalid_0's mape: 8.38938\n",
      "[61]\tvalid_0's mape: 8.37203\n",
      "[62]\tvalid_0's mape: 8.36085\n",
      "[63]\tvalid_0's mape: 8.34385\n",
      "[64]\tvalid_0's mape: 8.32801\n",
      "[65]\tvalid_0's mape: 8.31529\n",
      "[66]\tvalid_0's mape: 8.30473\n",
      "[67]\tvalid_0's mape: 8.29023\n",
      "[68]\tvalid_0's mape: 8.27803\n",
      "[69]\tvalid_0's mape: 8.26866\n",
      "[70]\tvalid_0's mape: 8.25712\n",
      "[71]\tvalid_0's mape: 8.24788\n",
      "[72]\tvalid_0's mape: 8.24113\n",
      "[73]\tvalid_0's mape: 8.23206\n",
      "[74]\tvalid_0's mape: 8.22507\n",
      "[75]\tvalid_0's mape: 8.21053\n",
      "[76]\tvalid_0's mape: 8.19713\n",
      "[77]\tvalid_0's mape: 8.18513\n",
      "[78]\tvalid_0's mape: 8.17583\n",
      "[79]\tvalid_0's mape: 8.16935\n",
      "[80]\tvalid_0's mape: 8.15986\n",
      "[81]\tvalid_0's mape: 8.14784\n",
      "[82]\tvalid_0's mape: 8.13602\n",
      "[83]\tvalid_0's mape: 8.12895\n",
      "[84]\tvalid_0's mape: 8.11369\n",
      "[85]\tvalid_0's mape: 8.10746\n",
      "[86]\tvalid_0's mape: 8.10389\n",
      "[87]\tvalid_0's mape: 8.09999\n",
      "[88]\tvalid_0's mape: 8.09762\n",
      "[89]\tvalid_0's mape: 8.09113\n",
      "[90]\tvalid_0's mape: 8.08889\n",
      "[91]\tvalid_0's mape: 8.08131\n",
      "[92]\tvalid_0's mape: 8.07117\n",
      "[93]\tvalid_0's mape: 8.0622\n",
      "[94]\tvalid_0's mape: 8.05784\n",
      "[95]\tvalid_0's mape: 8.05575\n",
      "[96]\tvalid_0's mape: 8.04848\n",
      "[97]\tvalid_0's mape: 8.04616\n",
      "[98]\tvalid_0's mape: 8.03659\n",
      "[99]\tvalid_0's mape: 8.02843\n",
      "[100]\tvalid_0's mape: 8.02512\n",
      "Did not meet early stopping. Best iteration is:\n",
      "[100]\tvalid_0's mape: 8.02512\n",
      "\n",
      "Testing performance\n",
      "RMSE: 1758.61228\n",
      "R2: 0.85285\n",
      "\n",
      "Speed execution\n",
      "Training: 0.53121\n",
      "predicted: 0.03253\n"
     ]
    }
   ],
   "source": [
    "lightgbm_process(df_encoded, 'mape', 100)"
   ]
  },
  {
   "cell_type": "code",
   "execution_count": 45,
   "metadata": {
    "scrolled": true
   },
   "outputs": [
    {
     "name": "stdout",
     "output_type": "stream",
     "text": [
      "[LightGBM] [Warning] Auto-choosing row-wise multi-threading, the overhead of testing was 0.000714 seconds.\n",
      "You can set `force_row_wise=true` to remove the overhead.\n",
      "And if memory is not enough, you can set `force_col_wise=true`.\n",
      "[LightGBM] [Info] Total Bins 610\n",
      "[LightGBM] [Info] Number of data points in the train set: 210779, number of used features: 6\n",
      "[LightGBM] [Info] Start training from score 4877.699951\n",
      "[1]\tvalid_0's poisson: -36388\n",
      "Training until validation scores don't improve for 10 rounds\n",
      "[2]\tvalid_0's poisson: -36522.4\n",
      "[3]\tvalid_0's poisson: -36633.5\n",
      "[4]\tvalid_0's poisson: -36739.6\n",
      "[5]\tvalid_0's poisson: -36834.4\n",
      "[6]\tvalid_0's poisson: -36905.2\n",
      "[7]\tvalid_0's poisson: -36983\n",
      "[8]\tvalid_0's poisson: -37050.2\n",
      "[9]\tvalid_0's poisson: -37114\n",
      "[10]\tvalid_0's poisson: -37172.1\n",
      "[11]\tvalid_0's poisson: -37224.8\n",
      "[12]\tvalid_0's poisson: -37271.6\n",
      "[13]\tvalid_0's poisson: -37316.4\n",
      "[14]\tvalid_0's poisson: -37357.5\n",
      "[15]\tvalid_0's poisson: -37394.4\n",
      "[16]\tvalid_0's poisson: -37424.5\n",
      "[17]\tvalid_0's poisson: -37457.5\n",
      "[18]\tvalid_0's poisson: -37487.2\n",
      "[19]\tvalid_0's poisson: -37514.9\n",
      "[20]\tvalid_0's poisson: -37536.9\n",
      "[21]\tvalid_0's poisson: -37560.9\n",
      "[22]\tvalid_0's poisson: -37583.2\n",
      "[23]\tvalid_0's poisson: -37603\n",
      "[24]\tvalid_0's poisson: -37621.9\n",
      "[25]\tvalid_0's poisson: -37639.3\n",
      "[26]\tvalid_0's poisson: -37655.3\n",
      "[27]\tvalid_0's poisson: -37670.5\n"
     ]
    },
    {
     "name": "stderr",
     "output_type": "stream",
     "text": [
      "C:\\Users\\poroj\\anaconda3\\envs\\data_science\\lib\\site-packages\\lightgbm\\engine.py:181: UserWarning: 'early_stopping_rounds' argument is deprecated and will be removed in a future release of LightGBM. Pass 'early_stopping()' callback via 'callbacks' argument instead.\n",
      "  _log_warning(\"'early_stopping_rounds' argument is deprecated and will be removed in a future release of LightGBM. \"\n"
     ]
    },
    {
     "name": "stdout",
     "output_type": "stream",
     "text": [
      "[28]\tvalid_0's poisson: -37684.4\n",
      "[29]\tvalid_0's poisson: -37697.3\n",
      "[30]\tvalid_0's poisson: -37709.1\n",
      "[31]\tvalid_0's poisson: -37720\n",
      "[32]\tvalid_0's poisson: -37729.8\n",
      "[33]\tvalid_0's poisson: -37739.3\n",
      "[34]\tvalid_0's poisson: -37748.3\n",
      "[35]\tvalid_0's poisson: -37756.5\n",
      "[36]\tvalid_0's poisson: -37764.6\n",
      "[37]\tvalid_0's poisson: -37771.4\n",
      "[38]\tvalid_0's poisson: -37778\n",
      "[39]\tvalid_0's poisson: -37784.3\n",
      "[40]\tvalid_0's poisson: -37790.3\n",
      "[41]\tvalid_0's poisson: -37796\n",
      "[42]\tvalid_0's poisson: -37800.9\n",
      "[43]\tvalid_0's poisson: -37805.6\n",
      "[44]\tvalid_0's poisson: -37809.9\n",
      "[45]\tvalid_0's poisson: -37813.8\n",
      "[46]\tvalid_0's poisson: -37818.6\n",
      "[47]\tvalid_0's poisson: -37822.2\n",
      "[48]\tvalid_0's poisson: -37826\n",
      "[49]\tvalid_0's poisson: -37829.2\n",
      "[50]\tvalid_0's poisson: -37832.4\n",
      "[51]\tvalid_0's poisson: -37835.3\n",
      "[52]\tvalid_0's poisson: -37838.5\n",
      "[53]\tvalid_0's poisson: -37841.5\n",
      "[54]\tvalid_0's poisson: -37844.2\n",
      "[55]\tvalid_0's poisson: -37846.3\n",
      "[56]\tvalid_0's poisson: -37848.8\n",
      "[57]\tvalid_0's poisson: -37851\n",
      "[58]\tvalid_0's poisson: -37853\n",
      "[59]\tvalid_0's poisson: -37855.1\n",
      "[60]\tvalid_0's poisson: -37857.1\n",
      "[61]\tvalid_0's poisson: -37858.9\n",
      "[62]\tvalid_0's poisson: -37860.6\n",
      "[63]\tvalid_0's poisson: -37862.1\n",
      "[64]\tvalid_0's poisson: -37863.8\n",
      "[65]\tvalid_0's poisson: -37865.2\n",
      "[66]\tvalid_0's poisson: -37866.5\n",
      "[67]\tvalid_0's poisson: -37867.8\n",
      "[68]\tvalid_0's poisson: -37868.8\n",
      "[69]\tvalid_0's poisson: -37870.1\n",
      "[70]\tvalid_0's poisson: -37871.3\n",
      "[71]\tvalid_0's poisson: -37872.4\n",
      "[72]\tvalid_0's poisson: -37873.5\n",
      "[73]\tvalid_0's poisson: -37874.5\n",
      "[74]\tvalid_0's poisson: -37875.4\n",
      "[75]\tvalid_0's poisson: -37876.3\n",
      "[76]\tvalid_0's poisson: -37877\n",
      "[77]\tvalid_0's poisson: -37877.9\n",
      "[78]\tvalid_0's poisson: -37878.5\n",
      "[79]\tvalid_0's poisson: -37879.5\n",
      "[80]\tvalid_0's poisson: -37880.1\n",
      "[81]\tvalid_0's poisson: -37880.7\n",
      "[82]\tvalid_0's poisson: -37881.4\n",
      "[83]\tvalid_0's poisson: -37881.9\n",
      "[84]\tvalid_0's poisson: -37882.5\n",
      "[85]\tvalid_0's poisson: -37883\n",
      "[86]\tvalid_0's poisson: -37883.6\n",
      "[87]\tvalid_0's poisson: -37884.1\n",
      "[88]\tvalid_0's poisson: -37884.8\n",
      "[89]\tvalid_0's poisson: -37885.4\n",
      "[90]\tvalid_0's poisson: -37886\n",
      "[91]\tvalid_0's poisson: -37886.4\n",
      "[92]\tvalid_0's poisson: -37886.8\n",
      "[93]\tvalid_0's poisson: -37887.1\n",
      "[94]\tvalid_0's poisson: -37887.7\n",
      "[95]\tvalid_0's poisson: -37888.1\n",
      "[96]\tvalid_0's poisson: -37888.6\n",
      "[97]\tvalid_0's poisson: -37889.1\n",
      "[98]\tvalid_0's poisson: -37889.4\n",
      "[99]\tvalid_0's poisson: -37889.9\n",
      "[100]\tvalid_0's poisson: -37890.3\n",
      "[101]\tvalid_0's poisson: -37890.8\n",
      "[102]\tvalid_0's poisson: -37891.1\n",
      "[103]\tvalid_0's poisson: -37891.3\n",
      "[104]\tvalid_0's poisson: -37891.6\n",
      "[105]\tvalid_0's poisson: -37891.9\n",
      "[106]\tvalid_0's poisson: -37892.3\n",
      "[107]\tvalid_0's poisson: -37892.6\n",
      "[108]\tvalid_0's poisson: -37893\n",
      "[109]\tvalid_0's poisson: -37893.2\n",
      "[110]\tvalid_0's poisson: -37893.5\n",
      "[111]\tvalid_0's poisson: -37893.7\n",
      "[112]\tvalid_0's poisson: -37894\n",
      "[113]\tvalid_0's poisson: -37894.2\n",
      "[114]\tvalid_0's poisson: -37894.4\n",
      "[115]\tvalid_0's poisson: -37894.9\n",
      "[116]\tvalid_0's poisson: -37895\n",
      "[117]\tvalid_0's poisson: -37895.4\n",
      "[118]\tvalid_0's poisson: -37895.7\n",
      "[119]\tvalid_0's poisson: -37895.8\n",
      "[120]\tvalid_0's poisson: -37896.1\n",
      "Did not meet early stopping. Best iteration is:\n",
      "[120]\tvalid_0's poisson: -37896.1\n",
      "\n",
      "Testing performance\n",
      "RMSE: 1758.61228\n",
      "R2: 0.85285\n",
      "\n",
      "Speed execution\n",
      "Training: 0.52855\n",
      "predicted: 0.03303\n"
     ]
    }
   ],
   "source": [
    "lightgbm_process(df_encoded, 'poisson', 120)"
   ]
  },
  {
   "cell_type": "markdown",
   "metadata": {},
   "source": [
    "## Análisis del modelo"
   ]
  },
  {
   "cell_type": "markdown",
   "metadata": {},
   "source": [
    "La siguiente tabla muestra los parametros obtenidos para los modelos usados, observamos que pudimos obtener un mejor rendimiento para ambos modelos explorados comparados con la regresión lineal simple"
   ]
  },
  {
   "cell_type": "markdown",
   "metadata": {},
   "source": [
    "| Modelo              | Score      | Mesurement | Score   | Mesurement | training-Time | prediction-Time |\n",
    "|---------------------|------------|------------|---------|------------|---------------|-----------------|\n",
    "| Linear Regression   | 2901.40741 | RMSE       | 0.59948 | r2         | 0.02351       | 0.00405         |\n",
    "| CatBoost (RMSE)     | 1660.87417 | RMSE       | 0.86876 | r2         | 13.23528      | 0.25954         |\n",
    "| CatBoost (MAE)      | 1982.26026 | RMSE       | 0.81305 | r2         | 16.17395      | 0.26189         |\n",
    "| CatBoost (Quantile) | 1982.26026 | RMSE       | 0.81305 | r2         | 16.18964      | 0.29023         |\n",
    "| LightGBM (RMSE)     | 1758.61228 | RMSE       | 0.85285 | r2         | 1.34809       | 0.06127         |\n",
    "| LightGBM (MAPE)     | 1758.61228 | RMSE       | 0.85285 | r2         | 1.21587       | 0.08700         |\n",
    "| LightGBM (Poisson)  | 1758.61228 | RMSE       | 0.85285 | r2         | 1.17925       | 0.06528         |"
   ]
  },
  {
   "cell_type": "markdown",
   "metadata": {},
   "source": [
    "Vemos que el mejor resultado obtenido es con el modelo de CatBoost usando el RMSE como funcion de perdida. Probablemente es el mejor modelo por la posibilidad que nos da de usar los datos categoricos dentro de la evaluación lo que permite que no haya una perdida de la influencia de los datos en la variable objetivo. Sin embargo, debemos señalar que este modelo tambien es el más lento en el proceso de **entrenamiento** con 13.23 seg, aunque considero que en el orden de las decenas de segundos, aun podemos entender este modelos como viable."
   ]
  },
  {
   "cell_type": "markdown",
   "metadata": {},
   "source": [
    "<div class=\"alert alert-block alert-danger\">\n",
    "<b>Comentario del revisor (1ra Iteracion)</b> <a class=“tocSkip”></a>\n",
    "\n",
    "Buen trabajo con los entrenamientos de los modelos y la exploración de tus datos, hiciste muy bien cada proceso.\n",
    "\n",
    "Sin embargo, si revisamos la descripción del proyecto y lo que le interesa a la empresa parte del trabajo es medir los tiempos para predicción **y** entrenamiento, deberías calcular cuanto tiempo le toma al modelo entrenar y cuanto le toma hacer una predicción, esto lo puedes hacer con la librería time de python. Es importante que para tus conclusiones consideres cuanto tiempo tarda en hacer la predicción el modelo y cómo se encuentra su métrica de desempeño para que escojas el mejor en base al balance de esas dos variables. Esto es importante porque cuando se quiere utilizar el modelo en un ambiente productivo para que sea usado por usuarios esto se suele hacer a través de un API donde los tiempos de respuesta son importantes por lo que el modelo más rápido ayudará\n",
    "</div>"
   ]
  },
  {
   "cell_type": "markdown",
   "metadata": {},
   "source": [
    "# Lista de control"
   ]
  },
  {
   "cell_type": "markdown",
   "metadata": {},
   "source": [
    "Escribe 'x' para verificar. Luego presiona Shift+Enter"
   ]
  },
  {
   "cell_type": "markdown",
   "metadata": {},
   "source": [
    "- [x]  Jupyter Notebook está abierto\n",
    "- [ ]  El código no tiene errores- [ ]  Las celdas con el código han sido colocadas en orden de ejecución- [ ]  Los datos han sido descargados y preparados- [ ]  Los modelos han sido entrenados\n",
    "- [ ]  Se realizó el análisis de velocidad y calidad de los modelos"
   ]
  },
  {
   "cell_type": "code",
   "execution_count": null,
   "metadata": {},
   "outputs": [],
   "source": []
  }
 ],
 "metadata": {
  "ExecuteTimeLog": [
   {
    "duration": 3,
    "start_time": "2024-10-29T02:51:58.795Z"
   },
   {
    "duration": 1136,
    "start_time": "2024-10-29T02:51:58.800Z"
   },
   {
    "duration": 0,
    "start_time": "2024-10-29T02:51:59.939Z"
   },
   {
    "duration": 0,
    "start_time": "2024-10-29T02:51:59.940Z"
   },
   {
    "duration": 0,
    "start_time": "2024-10-29T02:51:59.942Z"
   },
   {
    "duration": 0,
    "start_time": "2024-10-29T02:51:59.943Z"
   },
   {
    "duration": 0,
    "start_time": "2024-10-29T02:51:59.944Z"
   },
   {
    "duration": 0,
    "start_time": "2024-10-29T02:51:59.945Z"
   },
   {
    "duration": 0,
    "start_time": "2024-10-29T02:51:59.946Z"
   },
   {
    "duration": 0,
    "start_time": "2024-10-29T02:51:59.947Z"
   },
   {
    "duration": 0,
    "start_time": "2024-10-29T02:51:59.949Z"
   },
   {
    "duration": 0,
    "start_time": "2024-10-29T02:51:59.950Z"
   },
   {
    "duration": 0,
    "start_time": "2024-10-29T02:51:59.951Z"
   },
   {
    "duration": 0,
    "start_time": "2024-10-29T02:51:59.953Z"
   },
   {
    "duration": 0,
    "start_time": "2024-10-29T02:51:59.954Z"
   },
   {
    "duration": 0,
    "start_time": "2024-10-29T02:51:59.955Z"
   },
   {
    "duration": 0,
    "start_time": "2024-10-29T02:51:59.957Z"
   },
   {
    "duration": 0,
    "start_time": "2024-10-29T02:51:59.958Z"
   },
   {
    "duration": 0,
    "start_time": "2024-10-29T02:51:59.960Z"
   },
   {
    "duration": 0,
    "start_time": "2024-10-29T02:51:59.961Z"
   },
   {
    "duration": 0,
    "start_time": "2024-10-29T02:51:59.963Z"
   },
   {
    "duration": 0,
    "start_time": "2024-10-29T02:51:59.964Z"
   },
   {
    "duration": 0,
    "start_time": "2024-10-29T02:51:59.966Z"
   },
   {
    "duration": 0,
    "start_time": "2024-10-29T02:51:59.967Z"
   },
   {
    "duration": 0,
    "start_time": "2024-10-29T02:51:59.968Z"
   },
   {
    "duration": 0,
    "start_time": "2024-10-29T02:51:59.969Z"
   },
   {
    "duration": 0,
    "start_time": "2024-10-29T02:51:59.969Z"
   },
   {
    "duration": 0,
    "start_time": "2024-10-29T02:51:59.970Z"
   },
   {
    "duration": 0,
    "start_time": "2024-10-29T02:51:59.970Z"
   },
   {
    "duration": 0,
    "start_time": "2024-10-29T02:51:59.971Z"
   },
   {
    "duration": 0,
    "start_time": "2024-10-29T02:51:59.971Z"
   },
   {
    "duration": 0,
    "start_time": "2024-10-29T02:52:00.010Z"
   },
   {
    "duration": 0,
    "start_time": "2024-10-29T02:52:00.011Z"
   },
   {
    "duration": 0,
    "start_time": "2024-10-29T02:52:00.013Z"
   },
   {
    "duration": 0,
    "start_time": "2024-10-29T02:52:00.014Z"
   },
   {
    "duration": 0,
    "start_time": "2024-10-29T02:52:00.016Z"
   },
   {
    "duration": 0,
    "start_time": "2024-10-29T02:52:00.017Z"
   },
   {
    "duration": 0,
    "start_time": "2024-10-29T02:52:00.021Z"
   },
   {
    "duration": 0,
    "start_time": "2024-10-29T02:52:00.022Z"
   },
   {
    "duration": 0,
    "start_time": "2024-10-29T02:52:00.024Z"
   },
   {
    "duration": 0,
    "start_time": "2024-10-29T02:52:00.025Z"
   },
   {
    "duration": 0,
    "start_time": "2024-10-29T02:52:00.026Z"
   },
   {
    "duration": 0,
    "start_time": "2024-10-29T02:52:00.027Z"
   },
   {
    "duration": 0,
    "start_time": "2024-10-29T02:52:00.028Z"
   },
   {
    "duration": 0,
    "start_time": "2024-10-29T02:52:00.030Z"
   },
   {
    "duration": 3,
    "start_time": "2024-10-29T02:53:02.562Z"
   },
   {
    "duration": 166,
    "start_time": "2024-10-29T02:53:02.568Z"
   },
   {
    "duration": 417,
    "start_time": "2024-10-29T02:53:02.735Z"
   },
   {
    "duration": 0,
    "start_time": "2024-10-29T02:53:03.155Z"
   },
   {
    "duration": 0,
    "start_time": "2024-10-29T02:53:03.157Z"
   },
   {
    "duration": 0,
    "start_time": "2024-10-29T02:53:03.158Z"
   },
   {
    "duration": 0,
    "start_time": "2024-10-29T02:53:03.159Z"
   },
   {
    "duration": 0,
    "start_time": "2024-10-29T02:53:03.160Z"
   },
   {
    "duration": 0,
    "start_time": "2024-10-29T02:53:03.162Z"
   },
   {
    "duration": 0,
    "start_time": "2024-10-29T02:53:03.164Z"
   },
   {
    "duration": 0,
    "start_time": "2024-10-29T02:53:03.165Z"
   },
   {
    "duration": 0,
    "start_time": "2024-10-29T02:53:03.166Z"
   },
   {
    "duration": 0,
    "start_time": "2024-10-29T02:53:03.167Z"
   },
   {
    "duration": 0,
    "start_time": "2024-10-29T02:53:03.169Z"
   },
   {
    "duration": 1,
    "start_time": "2024-10-29T02:53:03.170Z"
   },
   {
    "duration": 0,
    "start_time": "2024-10-29T02:53:03.172Z"
   },
   {
    "duration": 0,
    "start_time": "2024-10-29T02:53:03.173Z"
   },
   {
    "duration": 0,
    "start_time": "2024-10-29T02:53:03.209Z"
   },
   {
    "duration": 0,
    "start_time": "2024-10-29T02:53:03.211Z"
   },
   {
    "duration": 0,
    "start_time": "2024-10-29T02:53:03.213Z"
   },
   {
    "duration": 0,
    "start_time": "2024-10-29T02:53:03.214Z"
   },
   {
    "duration": 0,
    "start_time": "2024-10-29T02:53:03.216Z"
   },
   {
    "duration": 0,
    "start_time": "2024-10-29T02:53:03.218Z"
   },
   {
    "duration": 0,
    "start_time": "2024-10-29T02:53:03.219Z"
   },
   {
    "duration": 0,
    "start_time": "2024-10-29T02:53:03.220Z"
   },
   {
    "duration": 0,
    "start_time": "2024-10-29T02:53:03.221Z"
   },
   {
    "duration": 0,
    "start_time": "2024-10-29T02:53:03.223Z"
   },
   {
    "duration": 0,
    "start_time": "2024-10-29T02:53:03.224Z"
   },
   {
    "duration": 0,
    "start_time": "2024-10-29T02:53:03.225Z"
   },
   {
    "duration": 0,
    "start_time": "2024-10-29T02:53:03.227Z"
   },
   {
    "duration": 0,
    "start_time": "2024-10-29T02:53:03.228Z"
   },
   {
    "duration": 0,
    "start_time": "2024-10-29T02:53:03.230Z"
   },
   {
    "duration": 0,
    "start_time": "2024-10-29T02:53:03.231Z"
   },
   {
    "duration": 0,
    "start_time": "2024-10-29T02:53:03.232Z"
   },
   {
    "duration": 0,
    "start_time": "2024-10-29T02:53:03.234Z"
   },
   {
    "duration": 0,
    "start_time": "2024-10-29T02:53:03.235Z"
   },
   {
    "duration": 0,
    "start_time": "2024-10-29T02:53:03.236Z"
   },
   {
    "duration": 0,
    "start_time": "2024-10-29T02:53:03.237Z"
   },
   {
    "duration": 0,
    "start_time": "2024-10-29T02:53:03.238Z"
   },
   {
    "duration": 0,
    "start_time": "2024-10-29T02:53:03.239Z"
   },
   {
    "duration": 0,
    "start_time": "2024-10-29T02:53:03.240Z"
   },
   {
    "duration": 0,
    "start_time": "2024-10-29T02:53:03.241Z"
   },
   {
    "duration": 0,
    "start_time": "2024-10-29T02:53:03.242Z"
   },
   {
    "duration": 0,
    "start_time": "2024-10-29T02:53:03.243Z"
   },
   {
    "duration": 0,
    "start_time": "2024-10-29T02:53:03.244Z"
   },
   {
    "duration": 2,
    "start_time": "2024-10-29T02:53:09.834Z"
   },
   {
    "duration": 4,
    "start_time": "2024-10-29T02:53:09.838Z"
   },
   {
    "duration": 551,
    "start_time": "2024-10-29T02:53:09.843Z"
   },
   {
    "duration": 36,
    "start_time": "2024-10-29T02:53:10.397Z"
   },
   {
    "duration": 22,
    "start_time": "2024-10-29T02:53:10.435Z"
   },
   {
    "duration": 20,
    "start_time": "2024-10-29T02:53:10.459Z"
   },
   {
    "duration": 80,
    "start_time": "2024-10-29T02:53:10.480Z"
   },
   {
    "duration": 76,
    "start_time": "2024-10-29T02:53:10.562Z"
   },
   {
    "duration": 70,
    "start_time": "2024-10-29T02:53:10.642Z"
   },
   {
    "duration": 1360,
    "start_time": "2024-10-29T02:53:10.714Z"
   },
   {
    "duration": 6,
    "start_time": "2024-10-29T02:53:12.076Z"
   },
   {
    "duration": 39,
    "start_time": "2024-10-29T02:53:12.084Z"
   },
   {
    "duration": 318,
    "start_time": "2024-10-29T02:53:12.124Z"
   },
   {
    "duration": 38695,
    "start_time": "2024-10-29T02:53:12.444Z"
   },
   {
    "duration": 7,
    "start_time": "2024-10-29T02:53:51.141Z"
   },
   {
    "duration": 3,
    "start_time": "2024-10-29T02:53:51.150Z"
   },
   {
    "duration": 60,
    "start_time": "2024-10-29T02:53:51.155Z"
   },
   {
    "duration": 1676,
    "start_time": "2024-10-29T02:53:51.216Z"
   },
   {
    "duration": 11860,
    "start_time": "2024-10-29T02:53:52.894Z"
   },
   {
    "duration": 7,
    "start_time": "2024-10-29T02:54:04.756Z"
   },
   {
    "duration": 5,
    "start_time": "2024-10-29T02:54:04.765Z"
   },
   {
    "duration": 59,
    "start_time": "2024-10-29T02:54:04.772Z"
   },
   {
    "duration": 33,
    "start_time": "2024-10-29T02:54:04.833Z"
   },
   {
    "duration": 1252,
    "start_time": "2024-10-29T02:54:04.871Z"
   },
   {
    "duration": 302,
    "start_time": "2024-10-29T02:54:06.125Z"
   },
   {
    "duration": 442,
    "start_time": "2024-10-29T02:54:06.429Z"
   },
   {
    "duration": 313,
    "start_time": "2024-10-29T02:54:06.873Z"
   },
   {
    "duration": 22,
    "start_time": "2024-10-29T02:54:07.195Z"
   },
   {
    "duration": 296,
    "start_time": "2024-10-29T02:54:07.219Z"
   },
   {
    "duration": 15,
    "start_time": "2024-10-29T02:54:07.517Z"
   },
   {
    "duration": 0,
    "start_time": "2024-10-29T02:54:07.534Z"
   },
   {
    "duration": 0,
    "start_time": "2024-10-29T02:54:07.535Z"
   },
   {
    "duration": 0,
    "start_time": "2024-10-29T02:54:07.536Z"
   },
   {
    "duration": 0,
    "start_time": "2024-10-29T02:54:07.537Z"
   },
   {
    "duration": 0,
    "start_time": "2024-10-29T02:54:07.538Z"
   },
   {
    "duration": 0,
    "start_time": "2024-10-29T02:54:07.539Z"
   },
   {
    "duration": 0,
    "start_time": "2024-10-29T02:54:07.540Z"
   },
   {
    "duration": 0,
    "start_time": "2024-10-29T02:54:07.541Z"
   },
   {
    "duration": 0,
    "start_time": "2024-10-29T02:54:07.542Z"
   },
   {
    "duration": 0,
    "start_time": "2024-10-29T02:54:07.543Z"
   },
   {
    "duration": 0,
    "start_time": "2024-10-29T02:54:07.545Z"
   },
   {
    "duration": 0,
    "start_time": "2024-10-29T02:54:07.547Z"
   },
   {
    "duration": 0,
    "start_time": "2024-10-29T02:54:07.548Z"
   },
   {
    "duration": 0,
    "start_time": "2024-10-29T02:54:07.550Z"
   },
   {
    "duration": 0,
    "start_time": "2024-10-29T02:54:07.551Z"
   },
   {
    "duration": 18,
    "start_time": "2024-10-29T02:54:50.301Z"
   },
   {
    "duration": 0,
    "start_time": "2024-10-29T02:54:50.321Z"
   },
   {
    "duration": 0,
    "start_time": "2024-10-29T02:54:50.322Z"
   },
   {
    "duration": 0,
    "start_time": "2024-10-29T02:54:50.323Z"
   },
   {
    "duration": 0,
    "start_time": "2024-10-29T02:54:50.325Z"
   },
   {
    "duration": 0,
    "start_time": "2024-10-29T02:54:50.326Z"
   },
   {
    "duration": 0,
    "start_time": "2024-10-29T02:54:50.327Z"
   },
   {
    "duration": 0,
    "start_time": "2024-10-29T02:54:50.328Z"
   },
   {
    "duration": 0,
    "start_time": "2024-10-29T02:54:50.329Z"
   },
   {
    "duration": 0,
    "start_time": "2024-10-29T02:54:50.330Z"
   },
   {
    "duration": 0,
    "start_time": "2024-10-29T02:54:50.330Z"
   },
   {
    "duration": 0,
    "start_time": "2024-10-29T02:54:50.331Z"
   },
   {
    "duration": 0,
    "start_time": "2024-10-29T02:54:50.332Z"
   },
   {
    "duration": 15503,
    "start_time": "2024-10-29T02:55:08.111Z"
   },
   {
    "duration": 93,
    "start_time": "2024-10-29T02:55:23.617Z"
   },
   {
    "duration": 2,
    "start_time": "2024-10-29T02:56:06.561Z"
   },
   {
    "duration": 15,
    "start_time": "2024-10-29T02:56:09.193Z"
   },
   {
    "duration": 4,
    "start_time": "2024-10-29T02:56:13.291Z"
   },
   {
    "duration": 122,
    "start_time": "2024-10-29T02:56:48.792Z"
   },
   {
    "duration": 17,
    "start_time": "2024-10-29T02:56:53.456Z"
   },
   {
    "duration": 16,
    "start_time": "2024-10-29T02:56:56.312Z"
   },
   {
    "duration": 5,
    "start_time": "2024-10-29T02:57:43.895Z"
   },
   {
    "duration": 119,
    "start_time": "2024-10-29T02:57:45.107Z"
   },
   {
    "duration": 5,
    "start_time": "2024-10-29T02:57:47.451Z"
   },
   {
    "duration": 11132,
    "start_time": "2024-10-29T02:57:47.900Z"
   },
   {
    "duration": 14773,
    "start_time": "2024-10-29T02:57:59.035Z"
   },
   {
    "duration": 15001,
    "start_time": "2024-10-29T02:58:13.810Z"
   },
   {
    "duration": 8,
    "start_time": "2024-10-29T02:58:28.814Z"
   },
   {
    "duration": 7202,
    "start_time": "2024-10-29T02:58:28.824Z"
   },
   {
    "duration": 4806,
    "start_time": "2024-10-29T02:58:36.027Z"
   },
   {
    "duration": 5308,
    "start_time": "2024-10-29T02:58:40.910Z"
   }
  ],
  "kernelspec": {
   "display_name": "Python 3 (ipykernel)",
   "language": "python",
   "name": "python3"
  },
  "language_info": {
   "codemirror_mode": {
    "name": "ipython",
    "version": 3
   },
   "file_extension": ".py",
   "mimetype": "text/x-python",
   "name": "python",
   "nbconvert_exporter": "python",
   "pygments_lexer": "ipython3",
   "version": "3.9.19"
  },
  "toc": {
   "base_numbering": 1,
   "nav_menu": {},
   "number_sections": true,
   "sideBar": true,
   "skip_h1_title": true,
   "title_cell": "Table of Contents",
   "title_sidebar": "Contents",
   "toc_cell": false,
   "toc_position": {},
   "toc_section_display": true,
   "toc_window_display": false
  }
 },
 "nbformat": 4,
 "nbformat_minor": 4
}
