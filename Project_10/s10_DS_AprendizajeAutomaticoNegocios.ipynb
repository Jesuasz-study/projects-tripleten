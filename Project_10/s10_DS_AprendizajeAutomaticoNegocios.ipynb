{
 "cells": [
  {
   "cell_type": "code",
   "execution_count": null,
   "metadata": {
    "colab": {
     "base_uri": "https://localhost:8080/"
    },
    "id": "TG6GqS_85mLP",
    "outputId": "bfcafcb7-7c57-4df0-9be2-f56258a9a77e"
   },
   "outputs": [
    {
     "data": {
      "text/plain": [
       "(      id        f0        f1        f2     product\n",
       " 0  txEyH  0.705745 -0.497823  1.221170  105.280062\n",
       " 1  2acmU  1.334711 -0.340164  4.365080   73.037750\n",
       " 2  409Wp  1.022732  0.151990  1.419926   85.265647\n",
       " 3  iJLyR -0.032172  0.139033  2.978566  168.620776\n",
       " 4  Xdl7t  1.988431  0.155413  4.751769  154.036647,\n",
       "       id         f0         f1        f2     product\n",
       " 0  kBEdx -15.001348  -8.276000 -0.005876    3.179103\n",
       " 1  62mP7  14.272088  -3.475083  0.999183   26.953261\n",
       " 2  vyE1P   6.263187  -5.948386  5.001160  134.766305\n",
       " 3  KcrkZ -13.081196 -11.506057  4.999415  137.945408\n",
       " 4  AHL4O  12.702195  -8.147433  5.004363  134.766305,\n",
       "       id        f0        f1        f2     product\n",
       " 0  fwXo0 -1.146987  0.963328 -0.828965   27.758673\n",
       " 1  WJtFt  0.262778  0.269839 -2.530187   56.069697\n",
       " 2  ovLUW  0.194587  0.289035 -5.586433   62.871910\n",
       " 3  q6cA6  2.236060 -0.553760  0.930038  114.572842\n",
       " 4  WPMUX -0.515993  1.716266  5.899011  149.600746)"
      ]
     },
     "execution_count": 2,
     "metadata": {},
     "output_type": "execute_result"
    }
   ],
   "source": [
    "import pandas as pd\n",
    "from IPython.display import display, Markdown\n",
    "\n",
    "# Load the datasets to examine the content and structure\n",
    "file_paths = {\n",
    "    \"geo_data_0\": \"https://practicum-content.s3.us-west-1.amazonaws.com/datasets/geo_data_0.csv\",\n",
    "    \"geo_data_1\": \"https://practicum-content.s3.us-west-1.amazonaws.com/datasets/geo_data_1.csv\",\n",
    "    \"geo_data_2\": \"https://practicum-content.s3.us-west-1.amazonaws.com/datasets/geo_data_2.csv\"\n",
    "}\n",
    "\n",
    "# Read the files\n",
    "data_0 = pd.read_csv(file_paths[\"geo_data_0\"])\n",
    "data_1 = pd.read_csv(file_paths[\"geo_data_1\"])\n",
    "data_2 = pd.read_csv(file_paths[\"geo_data_2\"])\n",
    "\n",
    "# Display the first few rows of each dataset to understand their structure\n",
    "data_0.head(), data_1.head(), data_2.head()"
   ]
  },
  {
   "cell_type": "markdown",
   "metadata": {
    "id": "4SANTX-w6G87"
   },
   "source": [
    "Cada conjunto de datos contiene las siguientes columnas\n",
    "\n",
    "- `id`: Identificador único para cada pozo petrolífero.\n",
    "- `f0`, `f1`, `f2`: Rasgos que describen las características del pozo (su significado específico no es esencial).\n",
    "- `producto`: El volumen de reservas del pozo, medido en miles de barriles.\n",
    "\n",
    "Ahora que entendemos la estructura de los datos, el siguiente paso es\n",
    "\n",
    "1. Entrenar un modelo de regresión lineal para cada región utilizando `f0`, `f1` y `f2` como características para predecir el `producto`.\n",
    "2. Seleccionar los 200 mejores pozos en función de las reservas previstas para cada región.\n",
    "3. Calcule el beneficio esperado utilizando los detalles de costes e ingresos proporcionados.\n",
    "4. Realice un análisis de riesgo utilizando bootstrapping para determinar qué regiones cumplen el umbral de riesgo del 2,5%."
   ]
  },
  {
   "cell_type": "code",
   "execution_count": null,
   "metadata": {
    "colab": {
     "base_uri": "https://localhost:8080/"
    },
    "id": "NSJbvWGG6RP4",
    "outputId": "4b960a86-bd4e-4ab4-a255-4793e9a79eb7"
   },
   "outputs": [
    {
     "data": {
      "text/plain": [
       "(37.756600350261685, 0.890280100102884, 40.14587231134218)"
      ]
     },
     "execution_count": 6,
     "metadata": {},
     "output_type": "execute_result"
    }
   ],
   "source": [
    "from sklearn.model_selection import train_test_split\n",
    "from sklearn.linear_model import LinearRegression\n",
    "from sklearn.metrics import mean_squared_error\n",
    "import numpy as np\n",
    "\n",
    "# Prepare a function to train the linear regression model and predict product for each region\n",
    "def train_and_predict(data):\n",
    "    X = data[['f0', 'f1', 'f2']]\n",
    "    y = data['product']\n",
    "\n",
    "    # Split the data into training and test sets\n",
    "    X_train, X_test, y_train, y_test = train_test_split(X, y, test_size=0.25, random_state=42)\n",
    "\n",
    "    # Initialize and train the model\n",
    "    model = LinearRegression()\n",
    "    model.fit(X_train, y_train)\n",
    "\n",
    "    # Predict on the test set\n",
    "    y_pred = model.predict(X_test)\n",
    "\n",
    "    predictions = (pd.DataFrame({'actual': y_train, 'predicted': y_pred})\n",
    "                    .to_csv('predictions_geo_data_0.csv', index=False))\n",
    "\n",
    "    # Calculate the RMSE to evaluate the model\n",
    "    rmse = np.sqrt(mean_squared_error(y_test, y_pred))\n",
    "\n",
    "    return model, y_pred, y_test, rmse\n",
    "\n",
    "# Train models and get predictions for each region\n",
    "model_0, y_pred_0, y_test_0, rmse_0 = train_and_predict(data_0)\n",
    "model_1, y_pred_1, y_test_1, rmse_1 = train_and_predict(data_1)\n",
    "model_2, y_pred_2, y_test_2, rmse_2 = train_and_predict(data_2)\n",
    "\n",
    "rmse_0, rmse_1, rmse_2"
   ]
  },
  {
   "cell_type": "markdown",
   "metadata": {
    "id": "FPMy6q2t6kB0"
   },
   "source": [
    "Los valores del error cuadrático medio (RMSE) de los modelos de regresión lineal en los datos de prueba de cada región son los siguientes:\n",
    "\n",
    "- **Región 0**: RMSE = 37.76\n",
    "- **Región 1**: RMSE = 0.89\n",
    "- **Región 2**: RMSE = 40.15\n",
    "\n",
    "Estos valores indican lo bien que el modelo predice el «producto» (reservas de petróleo) de cada región. Cuanto menor es el RMSE, mejores son las predicciones del modelo, siendo la Región 1 la que presenta el mejor rendimiento de predicción.\n",
    "\n",
    "A continuación, procederé a seleccionar los 200 mejores pozos en función de las reservas pronosticadas y calcularé las estimaciones de beneficios de cada región."
   ]
  },
  {
   "cell_type": "code",
   "execution_count": null,
   "metadata": {
    "colab": {
     "base_uri": "https://localhost:8080/"
    },
    "id": "awCz-MAT6uCY",
    "outputId": "8be70dc9-1379-43e6-ae19-8b31c36d799d"
   },
   "outputs": [
    {
     "data": {
      "text/plain": [
       "(47012558.575654775, 25244984.21900387, 40933458.03536934)"
      ]
     },
     "execution_count": 8,
     "metadata": {},
     "output_type": "execute_result"
    }
   ],
   "source": [
    "# Prepare a function to calculate the profit based on predicted top 200 wells\n",
    "def calculate_profit(model, data):\n",
    "    # Predict on the entire dataset\n",
    "    X = data[['f0', 'f1', 'f2']]\n",
    "    predictions = model.predict(X)\n",
    "\n",
    "    # Add predictions to the dataframe\n",
    "    data['predicted_product'] = predictions\n",
    "\n",
    "    # Sort by predicted product to get the top 200 wells\n",
    "    top_wells = data.nlargest(200, 'predicted_product')\n",
    "\n",
    "    # Total profit calculation\n",
    "    total_product = top_wells['predicted_product'].sum()  # in thousands of barrels\n",
    "    profit_per_unit = 4500  # 4500 USD per thousand barrels\n",
    "    budget = 100_000_000  # 100 million USD\n",
    "\n",
    "    revenue = total_product * profit_per_unit\n",
    "    profit = revenue - budget\n",
    "\n",
    "    return profit\n",
    "\n",
    "# Calculate the profit for each region\n",
    "profit_0 = calculate_profit(model_0, data_0.copy())\n",
    "profit_1 = calculate_profit(model_1, data_1.copy())\n",
    "profit_2 = calculate_profit(model_2, data_2.copy())\n",
    "\n",
    "profit_0, profit_1, profit_2\n"
   ]
  },
  {
   "cell_type": "markdown",
   "metadata": {
    "id": "PUb2sU6063AQ"
   },
   "source": [
    "Los beneficios estimados para cada región, basados en los 200 pozos más importantes, son los siguientes:\n",
    "\n",
    "- **Región 0**: $47,012,558\n",
    "\n",
    "- **Región 1**: $25,244,984\n",
    "\n",
    "- **Región 2**: $40,933,458\n",
    "\n",
    "La Región 0 presenta el beneficio estimado más elevado, seguida de la Región 2. Sin embargo, tenemos que realizar un análisis de riesgos utilizando bootstrapping para evaluar los riesgos y determinar si el potencial de beneficios es coherente antes de seleccionar la mejor región. Procederé a ese análisis."
   ]
  },
  {
   "cell_type": "code",
   "execution_count": null,
   "metadata": {
    "colab": {
     "base_uri": "https://localhost:8080/",
     "height": 268
    },
    "id": "QxNv16vK7Mtj",
    "outputId": "7ae5a3e3-e888-47be-fa6f-349739325deb"
   },
   "outputs": [
    {
     "data": {
      "text/markdown": [
       "**Region 0** Average Profit"
      ],
      "text/plain": [
       "<IPython.core.display.Markdown object>"
      ]
     },
     "metadata": {},
     "output_type": "display_data"
    },
    {
     "data": {
      "text/plain": [
       "46976620.067325935"
      ]
     },
     "metadata": {},
     "output_type": "display_data"
    },
    {
     "data": {
      "text/plain": [
       "46010460.216132544"
      ]
     },
     "metadata": {},
     "output_type": "display_data"
    },
    {
     "data": {
      "text/plain": [
       "0.0"
      ]
     },
     "metadata": {},
     "output_type": "display_data"
    },
    {
     "data": {
      "text/markdown": [
       "**Region 1** Average Profit"
      ],
      "text/plain": [
       "<IPython.core.display.Markdown object>"
      ]
     },
     "metadata": {},
     "output_type": "display_data"
    },
    {
     "data": {
      "text/plain": [
       "25245870.669707432"
      ]
     },
     "metadata": {},
     "output_type": "display_data"
    },
    {
     "data": {
      "text/plain": [
       "25207048.567320548"
      ]
     },
     "metadata": {},
     "output_type": "display_data"
    },
    {
     "data": {
      "text/plain": [
       "0.0"
      ]
     },
     "metadata": {},
     "output_type": "display_data"
    },
    {
     "data": {
      "text/markdown": [
       "**Region 2** Average Profit"
      ],
      "text/plain": [
       "<IPython.core.display.Markdown object>"
      ]
     },
     "metadata": {},
     "output_type": "display_data"
    },
    {
     "data": {
      "text/plain": [
       "40946148.77455929"
      ]
     },
     "metadata": {},
     "output_type": "display_data"
    },
    {
     "data": {
      "text/plain": [
       "39964315.06935108"
      ]
     },
     "metadata": {},
     "output_type": "display_data"
    },
    {
     "data": {
      "text/plain": [
       "0.0"
      ]
     },
     "metadata": {},
     "output_type": "display_data"
    }
   ],
   "source": [
    "# Perform bootstrapping with reduced samples for performance\n",
    "def bootstrap_profit_optimized(model, data, n_samples=100):\n",
    "    profits = []\n",
    "    np.random.seed(42)  # for reproducibility\n",
    "\n",
    "    for _ in range(n_samples):\n",
    "        # Sample the dataset with replacement\n",
    "        sampled_data = data.sample(frac=1, replace=True)\n",
    "\n",
    "        # Calculate profit for the sampled data\n",
    "        profit = calculate_profit(model, sampled_data)\n",
    "        profits.append(profit)\n",
    "\n",
    "    # Calculate the 2.5th percentile for risk assessment (threshold for losses)\n",
    "    risk_threshold = np.percentile(profits, 2.5)\n",
    "    average_profit = np.mean(profits)\n",
    "    loss_probability = (np.array(profits) < 0).mean() * 100  # percentage of cases with losses\n",
    "\n",
    "    return average_profit, risk_threshold, loss_probability\n",
    "\n",
    "# Retry with reduced number of bootstrapping samples for each region\n",
    "avg_profit_0, risk_0, loss_prob_0 = bootstrap_profit_optimized(model_0, data_0.copy())\n",
    "avg_profit_1, risk_1, loss_prob_1 = bootstrap_profit_optimized(model_1, data_1.copy())\n",
    "avg_profit_2, risk_2, loss_prob_2 = bootstrap_profit_optimized(model_2, data_2.copy())\n",
    "\n",
    "display(Markdown('**Region 0** Average Profit'))\n",
    "display(avg_profit_0, risk_0, loss_prob_0)\n",
    "display(Markdown('**Region 1** Average Profit'))\n",
    "display(avg_profit_1, risk_1, loss_prob_1)\n",
    "display(Markdown('**Region 2** Average Profit'))\n",
    "display(avg_profit_2, risk_2, loss_prob_2)"
   ]
  },
  {
   "cell_type": "markdown",
   "metadata": {
    "id": "pGfTE9YX7Ws3"
   },
   "source": [
    "Los resultados del análisis bootstrapping muestran los siguientes beneficios medios, umbrales de riesgo y probabilidades de pérdida para cada región:\n",
    "\n",
    "- **Región 0**:\n",
    "  - Beneficio medio: 46.976.620 $.\n",
    "\n",
    "  - Umbral de riesgo (percentil 2,5): $46,010,460\n",
    "\n",
    "  - Probabilidad de pérdida: 0%.\n",
    "\n",
    "- **Región 1**:\n",
    "  - Beneficio medio: 25.245.871 $.\n",
    "\n",
    "  - Umbral de riesgo (percentil 2,5): $25,207,048\n",
    "\n",
    "  - Probabilidad de pérdida: 0%.\n",
    "\n",
    "\n",
    "- **Región 2**:\n",
    "  - Beneficio medio: $40.946.149\n",
    "  \n",
    "  - Umbral de riesgo (percentil 2,5): $39,964,315\n",
    "\n",
    "  - Probabilidad de pérdida: 0%.\n",
    "\n",
    "Todas las regiones no presentan riesgo de pérdida, ya que la probabilidad de incurrir en pérdidas es del 0% para cada una de ellas. Sin embargo, la **Región 0** tiene el beneficio medio más alto, lo que la convierte en la elección óptima para desarrollar nuevos pozos petrolíferos basándose tanto en el potencial de beneficio como en el análisis de riesgo."
   ]
  }
 ],
 "metadata": {
  "colab": {
   "provenance": []
  },
  "kernelspec": {
   "display_name": "Python 3 (ipykernel)",
   "language": "python",
   "name": "python3"
  },
  "language_info": {
   "codemirror_mode": {
    "name": "ipython",
    "version": 3
   },
   "file_extension": ".py",
   "mimetype": "text/x-python",
   "name": "python",
   "nbconvert_exporter": "python",
   "pygments_lexer": "ipython3",
   "version": "3.9.19"
  }
 },
 "nbformat": 4,
 "nbformat_minor": 4
}
